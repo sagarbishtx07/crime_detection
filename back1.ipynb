{
 "cells": [
  {
   "cell_type": "code",
   "execution_count": 12,
   "metadata": {},
   "outputs": [
    {
     "data": {
      "text/plain": [
       "200"
      ]
     },
     "execution_count": 12,
     "metadata": {},
     "output_type": "execute_result"
    }
   ],
   "source": [
    "import pandas as pd\n",
    "from bs4 import BeautifulSoup\n",
    "import requests\n",
    "\n",
    "test_url1 = \"https://english.jagran.com/latest-news?itm_medium=latestnews&itm_source=web&itm_campaign=navigation\"\n",
    "response = requests.get(test_url1)\n",
    "response.status_code"
   ]
  },
  {
   "cell_type": "code",
   "execution_count": 13,
   "metadata": {},
   "outputs": [],
   "source": [
    "tu1_contents = response.text\n",
    "#tu1_contents[:1000]"
   ]
  },
  {
   "cell_type": "code",
   "execution_count": 14,
   "metadata": {},
   "outputs": [],
   "source": [
    "with open('cri_nw1.html','w',encoding='utf-8') as f:\n",
    "    f.write(tu1_contents)"
   ]
  },
  {
   "cell_type": "code",
   "execution_count": 52,
   "metadata": {},
   "outputs": [],
   "source": [
    "doc1 = BeautifulSoup(tu1_contents,'html.parser')\n",
    "base_url1 = \"https://english.jagran.com/latest-news?itm_medium=latestnews&itm_source=web&itm_campaign=navigation\"\n",
    "head_main = doc1.find_all('div',{'class':'h3'})\n",
    "h_url1=[]\n",
    "head1=[]\n",
    "a_tag=''\n",
    "\n",
    "for i in range(0,9):\n",
    "    a_tag=head_main[i].parent.parent['href']\n",
    "    head1.append(head_main[i].text.strip())\n",
    "    h_url1.append(base_url1+a_tag)\n",
    "\n",
    "\n"
   ]
  },
  {
   "cell_type": "code",
   "execution_count": 53,
   "metadata": {},
   "outputs": [],
   "source": [
    "news_d1={\n",
    "    'Headline': head1,\n",
    "    'Url':h_url1\n",
    "}\n",
    "news1_df = pd.DataFrame(news_d1)"
   ]
  },
  {
   "cell_type": "code",
   "execution_count": 54,
   "metadata": {},
   "outputs": [
    {
     "data": {
      "text/html": [
       "<div>\n",
       "<style scoped>\n",
       "    .dataframe tbody tr th:only-of-type {\n",
       "        vertical-align: middle;\n",
       "    }\n",
       "\n",
       "    .dataframe tbody tr th {\n",
       "        vertical-align: top;\n",
       "    }\n",
       "\n",
       "    .dataframe thead th {\n",
       "        text-align: right;\n",
       "    }\n",
       "</style>\n",
       "<table border=\"1\" class=\"dataframe\">\n",
       "  <thead>\n",
       "    <tr style=\"text-align: right;\">\n",
       "      <th></th>\n",
       "      <th>Headline</th>\n",
       "      <th>Url</th>\n",
       "    </tr>\n",
       "  </thead>\n",
       "  <tbody>\n",
       "    <tr>\n",
       "      <th>0</th>\n",
       "      <td>SpiceJet Mumbai-Durgapur flight encounters sev...</td>\n",
       "      <td>https://english.jagran.com/latest-news?itm_med...</td>\n",
       "    </tr>\n",
       "    <tr>\n",
       "      <th>1</th>\n",
       "      <td>IPL 2022, SRH vs CSK: Gaikwad, Conway's record...</td>\n",
       "      <td>https://english.jagran.com/latest-news?itm_med...</td>\n",
       "    </tr>\n",
       "    <tr>\n",
       "      <th>2</th>\n",
       "      <td>Dharmendra returns home after being hospitalis...</td>\n",
       "      <td>https://english.jagran.com/latest-news?itm_med...</td>\n",
       "    </tr>\n",
       "    <tr>\n",
       "      <th>3</th>\n",
       "      <td>Covid-19 in India: Delhi sees decline in fresh...</td>\n",
       "      <td>https://english.jagran.com/latest-news?itm_med...</td>\n",
       "    </tr>\n",
       "    <tr>\n",
       "      <th>4</th>\n",
       "      <td>Tanzanian internet sensation Kili Paul injured...</td>\n",
       "      <td>https://english.jagran.com/latest-news?itm_med...</td>\n",
       "    </tr>\n",
       "    <tr>\n",
       "      <th>5</th>\n",
       "      <td>CIA names Indian-origin Nand Mulchandani as it...</td>\n",
       "      <td>https://english.jagran.com/latest-news?itm_med...</td>\n",
       "    </tr>\n",
       "    <tr>\n",
       "      <th>6</th>\n",
       "      <td>Mirzapur 3, Paatal Lok, Pathan, Tiger 3: Full ...</td>\n",
       "      <td>https://english.jagran.com/latest-news?itm_med...</td>\n",
       "    </tr>\n",
       "    <tr>\n",
       "      <th>7</th>\n",
       "      <td>Eid-ul-Fitr 2022: When will Eid be celebrated?...</td>\n",
       "      <td>https://english.jagran.com/latest-news?itm_med...</td>\n",
       "    </tr>\n",
       "    <tr>\n",
       "      <th>8</th>\n",
       "      <td>IPL 2022, DC vs LSG: KL Rahul, Deepak Hooda's ...</td>\n",
       "      <td>https://english.jagran.com/latest-news?itm_med...</td>\n",
       "    </tr>\n",
       "  </tbody>\n",
       "</table>\n",
       "</div>"
      ],
      "text/plain": [
       "                                            Headline  \\\n",
       "0  SpiceJet Mumbai-Durgapur flight encounters sev...   \n",
       "1  IPL 2022, SRH vs CSK: Gaikwad, Conway's record...   \n",
       "2  Dharmendra returns home after being hospitalis...   \n",
       "3  Covid-19 in India: Delhi sees decline in fresh...   \n",
       "4  Tanzanian internet sensation Kili Paul injured...   \n",
       "5  CIA names Indian-origin Nand Mulchandani as it...   \n",
       "6  Mirzapur 3, Paatal Lok, Pathan, Tiger 3: Full ...   \n",
       "7  Eid-ul-Fitr 2022: When will Eid be celebrated?...   \n",
       "8  IPL 2022, DC vs LSG: KL Rahul, Deepak Hooda's ...   \n",
       "\n",
       "                                                 Url  \n",
       "0  https://english.jagran.com/latest-news?itm_med...  \n",
       "1  https://english.jagran.com/latest-news?itm_med...  \n",
       "2  https://english.jagran.com/latest-news?itm_med...  \n",
       "3  https://english.jagran.com/latest-news?itm_med...  \n",
       "4  https://english.jagran.com/latest-news?itm_med...  \n",
       "5  https://english.jagran.com/latest-news?itm_med...  \n",
       "6  https://english.jagran.com/latest-news?itm_med...  \n",
       "7  https://english.jagran.com/latest-news?itm_med...  \n",
       "8  https://english.jagran.com/latest-news?itm_med...  "
      ]
     },
     "execution_count": 54,
     "metadata": {},
     "output_type": "execute_result"
    }
   ],
   "source": [
    "news1_df"
   ]
  },
  {
   "cell_type": "code",
   "execution_count": null,
   "metadata": {},
   "outputs": [],
   "source": []
  }
 ],
 "metadata": {
  "interpreter": {
   "hash": "aaa2d32309aa7ce0f397d0e81903e050bd163767a22d0d109bd73d79b6cf4dfe"
  },
  "kernelspec": {
   "display_name": "Python 3.10.4 64-bit",
   "language": "python",
   "name": "python3"
  },
  "language_info": {
   "codemirror_mode": {
    "name": "ipython",
    "version": 3
   },
   "file_extension": ".py",
   "mimetype": "text/x-python",
   "name": "python",
   "nbconvert_exporter": "python",
   "pygments_lexer": "ipython3",
   "version": "3.10.4"
  },
  "orig_nbformat": 4
 },
 "nbformat": 4,
 "nbformat_minor": 2
}
