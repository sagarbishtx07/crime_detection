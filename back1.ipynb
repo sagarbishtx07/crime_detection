{
 "cells": [
  {
   "cell_type": "code",
   "execution_count": 26,
   "metadata": {},
   "outputs": [
    {
     "data": {
      "text/plain": [
       "200"
      ]
     },
     "execution_count": 26,
     "metadata": {},
     "output_type": "execute_result"
    }
   ],
   "source": [
    "import pandas as pd\n",
    "from bs4 import BeautifulSoup\n",
    "import requests\n",
    "\n",
    "test_url1 = \"https://english.jagran.com/latest-news?itm_medium=latestnews&itm_source=web&itm_campaign=navigation\"\n",
    "response = requests.get(test_url1)\n",
    "response.status_code"
   ]
  },
  {
   "cell_type": "code",
   "execution_count": 27,
   "metadata": {},
   "outputs": [],
   "source": [
    "tu1_contents = response.text\n",
    "#tu1_contents[:1000]"
   ]
  },
  {
   "cell_type": "code",
   "execution_count": 28,
   "metadata": {},
   "outputs": [],
   "source": [
    "with open('cri_nw1.html','w',encoding='utf-8') as f:\n",
    "    f.write(tu1_contents)"
   ]
  },
  {
   "cell_type": "code",
   "execution_count": 29,
   "metadata": {},
   "outputs": [],
   "source": [
    "doc1 = BeautifulSoup(tu1_contents,'html.parser')\n",
    "base_url1 = \"https://english.jagran.com/latest-news?itm_medium=latestnews&itm_source=web&itm_campaign=navigation\"\n",
    "head_main = doc1.find_all('div',{'class':'h3'})\n",
    "h_url1=[]\n",
    "head1=[]\n",
    "a_tag=''\n",
    "\n",
    "for i in range(0,9):\n",
    "    a_tag=head_main[i].parent.parent['href']\n",
    "    head1.append(head_main[i].text.strip())\n",
    "    h_url1.append(base_url1+a_tag)\n",
    "\n",
    "\n"
   ]
  },
  {
   "cell_type": "code",
   "execution_count": 30,
   "metadata": {},
   "outputs": [],
   "source": [
    "news_d1={\n",
    "    'Headline': head1,\n",
    "    'Url':h_url1\n",
    "}\n",
    "news1_df = pd.DataFrame(news_d1)"
   ]
  },
  {
   "cell_type": "code",
   "execution_count": 31,
   "metadata": {},
   "outputs": [],
   "source": [
    "#news1_df"
   ]
  },
  {
   "cell_type": "code",
   "execution_count": 32,
   "metadata": {},
   "outputs": [
    {
     "data": {
      "text/plain": [
       "200"
      ]
     },
     "execution_count": 32,
     "metadata": {},
     "output_type": "execute_result"
    }
   ],
   "source": [
    "test_url2 = \"https://www2.bing.com/news/search?q=uttrakhand+crime+news&qft=interval%3d%228%22&form=PTFTNR\"\n",
    "response = requests.get(test_url2)\n",
    "response.status_code"
   ]
  },
  {
   "cell_type": "code",
   "execution_count": 33,
   "metadata": {},
   "outputs": [
    {
     "name": "stderr",
     "output_type": "stream",
     "text": [
      "C:\\Users\\ACER\\AppData\\Local\\Temp\\ipykernel_13452\\2981759371.py:16: FutureWarning: The frame.append method is deprecated and will be removed from pandas in a future version. Use pandas.concat instead.\n",
      "  news1_df = news1_df.append(pd.DataFrame(news_d2),ignore_index=True)\n"
     ]
    }
   ],
   "source": [
    "tu2_contents = response.text\n",
    "with open('cri_nw2.html','w',encoding='utf-8') as f:\n",
    "    f.write(tu2_contents)\n",
    "\n",
    "doc2 = BeautifulSoup(tu2_contents,'html.parser')\n",
    "binge_head = doc2.find_all('a',{'class':'title'})\n",
    "head2=[]\n",
    "h_url2=[]\n",
    "for h in binge_head:\n",
    "    head2.append(h.text)\n",
    "    h_url2.append(h['href'])\n",
    "news_d2={\n",
    "    'Headline':head2,\n",
    "    'Url':h_url2\n",
    "}\n",
    "news1_df = news1_df.append(pd.DataFrame(news_d2),ignore_index=True)\n",
    "news1_df.to_csv('crime_n1.csv')"
   ]
  },
  {
   "cell_type": "code",
   "execution_count": 34,
   "metadata": {},
   "outputs": [
    {
     "data": {
      "text/html": [
       "<div>\n",
       "<style scoped>\n",
       "    .dataframe tbody tr th:only-of-type {\n",
       "        vertical-align: middle;\n",
       "    }\n",
       "\n",
       "    .dataframe tbody tr th {\n",
       "        vertical-align: top;\n",
       "    }\n",
       "\n",
       "    .dataframe thead th {\n",
       "        text-align: right;\n",
       "    }\n",
       "</style>\n",
       "<table border=\"1\" class=\"dataframe\">\n",
       "  <thead>\n",
       "    <tr style=\"text-align: right;\">\n",
       "      <th></th>\n",
       "      <th>Headline</th>\n",
       "      <th>Url</th>\n",
       "      <th>Date</th>\n",
       "    </tr>\n",
       "  </thead>\n",
       "  <tbody>\n",
       "    <tr>\n",
       "      <th>0</th>\n",
       "      <td>साइबर अपराध से बचाव को जागरूक हुए विद्यार्थी</td>\n",
       "      <td>https://www.livehindustan.com/uttar-pradesh/bh...</td>\n",
       "      <td>11 hours ago</td>\n",
       "    </tr>\n",
       "    <tr>\n",
       "      <th>1</th>\n",
       "      <td>गोष्ठी में अपराध रोकथाम की बनी रणनीति</td>\n",
       "      <td>https://www.livehindustan.com/bihar/bhagalpur/...</td>\n",
       "      <td>11 hours ago</td>\n",
       "    </tr>\n",
       "    <tr>\n",
       "      <th>2</th>\n",
       "      <td>'The wife caught with the lover, the angry hus...</td>\n",
       "      <td>https://english.newstracklive.com/news/the-wif...</td>\n",
       "      <td>6 days ago</td>\n",
       "    </tr>\n",
       "    <tr>\n",
       "      <th>3</th>\n",
       "      <td>'Why Rahul has ties only with…': BJP's fresh j...</td>\n",
       "      <td>https://www.hindustantimes.com/india-news/why-...</td>\n",
       "      <td>1 day ago</td>\n",
       "    </tr>\n",
       "    <tr>\n",
       "      <th>4</th>\n",
       "      <td>Cyber crime: Experts dwell on legal issues</td>\n",
       "      <td>https://www.tribuneindia.com/news/chandigarh/c...</td>\n",
       "      <td>2 days ago</td>\n",
       "    </tr>\n",
       "    <tr>\n",
       "      <th>5</th>\n",
       "      <td>Joint coordination team holds conference in Ch...</td>\n",
       "      <td>https://www.msn.com/en-in/news/other/joint-coo...</td>\n",
       "      <td>2 days ago</td>\n",
       "    </tr>\n",
       "    <tr>\n",
       "      <th>6</th>\n",
       "      <td>'Yes, he was at Lord of the Drinks': Kathmandu...</td>\n",
       "      <td>https://www.msn.com/en-in/news/other/yes-he-wa...</td>\n",
       "      <td>17 hours ago</td>\n",
       "    </tr>\n",
       "    <tr>\n",
       "      <th>7</th>\n",
       "      <td>BJP Levels Fresh Salvo At Rahul Gandhi Over Pa...</td>\n",
       "      <td>https://www.republicworld.com/india-news/polit...</td>\n",
       "      <td>22 hours ago</td>\n",
       "    </tr>\n",
       "    <tr>\n",
       "      <th>8</th>\n",
       "      <td>SHO, who allegedly raped a minor in UP's Lalit...</td>\n",
       "      <td>https://zeenews.india.com/uttar-pradesh/sho-wh...</td>\n",
       "      <td>15 hours ago</td>\n",
       "    </tr>\n",
       "    <tr>\n",
       "      <th>9</th>\n",
       "      <td>BJP's IT dept head Amit Malviya claims Rahul G...</td>\n",
       "      <td>https://economictimes.indiatimes.com/news/poli...</td>\n",
       "      <td>23 hours ago</td>\n",
       "    </tr>\n",
       "  </tbody>\n",
       "</table>\n",
       "</div>"
      ],
      "text/plain": [
       "                                            Headline  \\\n",
       "0       साइबर अपराध से बचाव को जागरूक हुए विद्यार्थी   \n",
       "1              गोष्ठी में अपराध रोकथाम की बनी रणनीति   \n",
       "2  'The wife caught with the lover, the angry hus...   \n",
       "3  'Why Rahul has ties only with…': BJP's fresh j...   \n",
       "4         Cyber crime: Experts dwell on legal issues   \n",
       "5  Joint coordination team holds conference in Ch...   \n",
       "6  'Yes, he was at Lord of the Drinks': Kathmandu...   \n",
       "7  BJP Levels Fresh Salvo At Rahul Gandhi Over Pa...   \n",
       "8  SHO, who allegedly raped a minor in UP's Lalit...   \n",
       "9  BJP's IT dept head Amit Malviya claims Rahul G...   \n",
       "\n",
       "                                                 Url          Date  \n",
       "0  https://www.livehindustan.com/uttar-pradesh/bh...  11 hours ago  \n",
       "1  https://www.livehindustan.com/bihar/bhagalpur/...  11 hours ago  \n",
       "2  https://english.newstracklive.com/news/the-wif...    6 days ago  \n",
       "3  https://www.hindustantimes.com/india-news/why-...     1 day ago  \n",
       "4  https://www.tribuneindia.com/news/chandigarh/c...    2 days ago  \n",
       "5  https://www.msn.com/en-in/news/other/joint-coo...    2 days ago  \n",
       "6  https://www.msn.com/en-in/news/other/yes-he-wa...  17 hours ago  \n",
       "7  https://www.republicworld.com/india-news/polit...  22 hours ago  \n",
       "8  https://zeenews.india.com/uttar-pradesh/sho-wh...  15 hours ago  \n",
       "9  https://economictimes.indiatimes.com/news/poli...  23 hours ago  "
      ]
     },
     "execution_count": 34,
     "metadata": {},
     "output_type": "execute_result"
    }
   ],
   "source": [
    "binge_date = doc2.find_all('span',{'tabindex':'0'})\n",
    "news_date1 = []\n",
    "for n in binge_date:\n",
    "    news_date1.append(n['aria-label'])\n",
    "news_date1\n",
    "news_d3={\n",
    "     'Headline':head2,\n",
    "    'Url':h_url2,\n",
    "    'Date':news_date1\n",
    "}\n",
    "news_df2=pd.DataFrame(news_d3)\n",
    "news_df2"
   ]
  },
  {
   "cell_type": "code",
   "execution_count": 35,
   "metadata": {},
   "outputs": [
    {
     "data": {
      "text/plain": [
       "200"
      ]
     },
     "execution_count": 35,
     "metadata": {},
     "output_type": "execute_result"
    }
   ],
   "source": [
    "test_url3 = 'https://timesofindia.indiatimes.com/city/dehradun'\n",
    "response = requests.get(test_url3)\n",
    "response.status_code"
   ]
  },
  {
   "cell_type": "code",
   "execution_count": 36,
   "metadata": {},
   "outputs": [],
   "source": [
    "tu3_contents = response.text\n",
    "with open('cri_nw3.html','w',encoding='utf-8') as f:\n",
    "    f.write(tu3_contents)\n",
    "\n",
    "doc3 = BeautifulSoup(tu3_contents,'html.parser')\n",
    "toi_head = doc3.find_all('span',{'class':'w_tle'})\n",
    "\n",
    "head3 = []\n",
    "url3 = []\n",
    "date = []\n",
    "base_url3 = 'https://timesofindia.indiatimes.com/city/dehradun'\n",
    "\n",
    "for i in range(0,len(toi_head)):\n",
    "    head3.append(toi_head[i].contents[0]['title'])\n",
    "    url3.append(base_url3 + toi_head[i].contents[0]['href'])\n",
    "    date.append('23/11/22') \n",
    "\n",
    "news_d3 = {\n",
    "    'Headline':head3,\n",
    "    'Url':url3,\n",
    "    'Date':date\n",
    "}\n",
    "\n",
    "news3_df = pd.DataFrame(news_d3)\n",
    "news3_df.to_csv('crime_n3.csv')\n"
   ]
  },
  {
   "cell_type": "code",
   "execution_count": null,
   "metadata": {},
   "outputs": [],
   "source": [
    "\n"
   ]
  }
 ],
 "metadata": {
  "interpreter": {
   "hash": "aaa2d32309aa7ce0f397d0e81903e050bd163767a22d0d109bd73d79b6cf4dfe"
  },
  "kernelspec": {
   "display_name": "Python 3.10.4 64-bit",
   "language": "python",
   "name": "python3"
  },
  "language_info": {
   "codemirror_mode": {
    "name": "ipython",
    "version": 3
   },
   "file_extension": ".py",
   "mimetype": "text/x-python",
   "name": "python",
   "nbconvert_exporter": "python",
   "pygments_lexer": "ipython3",
   "version": "3.10.4"
  },
  "orig_nbformat": 4
 },
 "nbformat": 4,
 "nbformat_minor": 2
}
