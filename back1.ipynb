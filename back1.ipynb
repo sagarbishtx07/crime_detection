{
 "cells": [
  {
   "cell_type": "code",
   "execution_count": 19,
   "metadata": {},
   "outputs": [
    {
     "data": {
      "text/plain": [
       "200"
      ]
     },
     "execution_count": 19,
     "metadata": {},
     "output_type": "execute_result"
    }
   ],
   "source": [
    "import pandas as pd\n",
    "from bs4 import BeautifulSoup\n",
    "import requests\n",
    "\n",
    "test_url1 = \"https://english.jagran.com/latest-news?itm_medium=latestnews&itm_source=web&itm_campaign=navigation\"\n",
    "response = requests.get(test_url1)\n",
    "response.status_code"
   ]
  },
  {
   "cell_type": "code",
   "execution_count": 20,
   "metadata": {},
   "outputs": [],
   "source": [
    "tu1_contents = response.text\n",
    "#tu1_contents[:1000]"
   ]
  },
  {
   "cell_type": "code",
   "execution_count": 21,
   "metadata": {},
   "outputs": [],
   "source": [
    "with open('cri_nw1.html','w',encoding='utf-8') as f:\n",
    "    f.write(tu1_contents)"
   ]
  },
  {
   "cell_type": "code",
   "execution_count": 22,
   "metadata": {},
   "outputs": [],
   "source": [
    "doc1 = BeautifulSoup(tu1_contents,'html.parser')\n",
    "base_url1 = \"https://english.jagran.com/latest-news?itm_medium=latestnews&itm_source=web&itm_campaign=navigation\"\n",
    "head_main = doc1.find_all('div',{'class':'h3'})\n",
    "h_url1=[]\n",
    "head1=[]\n",
    "a_tag=''\n",
    "\n",
    "for i in range(0,9):\n",
    "    a_tag=head_main[i].parent.parent['href']\n",
    "    head1.append(head_main[i].text.strip())\n",
    "    h_url1.append(base_url1+a_tag)\n",
    "\n",
    "\n"
   ]
  },
  {
   "cell_type": "code",
   "execution_count": 23,
   "metadata": {},
   "outputs": [],
   "source": [
    "news_d1={\n",
    "    'Headline': head1,\n",
    "    'Url':h_url1\n",
    "}\n",
    "news1_df = pd.DataFrame(news_d1)"
   ]
  },
  {
   "cell_type": "code",
   "execution_count": 24,
   "metadata": {},
   "outputs": [
    {
     "data": {
      "text/html": [
       "<div>\n",
       "<style scoped>\n",
       "    .dataframe tbody tr th:only-of-type {\n",
       "        vertical-align: middle;\n",
       "    }\n",
       "\n",
       "    .dataframe tbody tr th {\n",
       "        vertical-align: top;\n",
       "    }\n",
       "\n",
       "    .dataframe thead th {\n",
       "        text-align: right;\n",
       "    }\n",
       "</style>\n",
       "<table border=\"1\" class=\"dataframe\">\n",
       "  <thead>\n",
       "    <tr style=\"text-align: right;\">\n",
       "      <th></th>\n",
       "      <th>Headline</th>\n",
       "      <th>Url</th>\n",
       "    </tr>\n",
       "  </thead>\n",
       "  <tbody>\n",
       "    <tr>\n",
       "      <th>0</th>\n",
       "      <td>'Time to go to Real Masters': Prashant Kishor ...</td>\n",
       "      <td>https://english.jagran.com/latest-news?itm_med...</td>\n",
       "    </tr>\n",
       "    <tr>\n",
       "      <th>1</th>\n",
       "      <td>Breaking News Today, May 2 LIVE | PM Modi reac...</td>\n",
       "      <td>https://english.jagran.com/latest-news?itm_med...</td>\n",
       "    </tr>\n",
       "    <tr>\n",
       "      <th>2</th>\n",
       "      <td>Sensex falls over 500 pts, Nifty trades below ...</td>\n",
       "      <td>https://english.jagran.com/latest-news?itm_med...</td>\n",
       "    </tr>\n",
       "    <tr>\n",
       "      <th>3</th>\n",
       "      <td>13 flyers 'severely injured' as SpiceJet faces...</td>\n",
       "      <td>https://english.jagran.com/latest-news?itm_med...</td>\n",
       "    </tr>\n",
       "    <tr>\n",
       "      <th>4</th>\n",
       "      <td>'A soul so strong yet...': Sussanne Khan, Hrit...</td>\n",
       "      <td>https://english.jagran.com/latest-news?itm_med...</td>\n",
       "    </tr>\n",
       "    <tr>\n",
       "      <th>5</th>\n",
       "      <td>Jagran Trending: Why is World Press Freedom Da...</td>\n",
       "      <td>https://english.jagran.com/latest-news?itm_med...</td>\n",
       "    </tr>\n",
       "    <tr>\n",
       "      <th>6</th>\n",
       "      <td>7th Pay Commission Latest News: Chhattisgarh h...</td>\n",
       "      <td>https://english.jagran.com/latest-news?itm_med...</td>\n",
       "    </tr>\n",
       "    <tr>\n",
       "      <th>7</th>\n",
       "      <td>India COVID-19 Tally: 3,157 cases and 26 death...</td>\n",
       "      <td>https://english.jagran.com/latest-news?itm_med...</td>\n",
       "    </tr>\n",
       "    <tr>\n",
       "      <th>8</th>\n",
       "      <td>RBSE Class 10th, 12th Results 2022: Rajasthan ...</td>\n",
       "      <td>https://english.jagran.com/latest-news?itm_med...</td>\n",
       "    </tr>\n",
       "  </tbody>\n",
       "</table>\n",
       "</div>"
      ],
      "text/plain": [
       "                                            Headline  \\\n",
       "0  'Time to go to Real Masters': Prashant Kishor ...   \n",
       "1  Breaking News Today, May 2 LIVE | PM Modi reac...   \n",
       "2  Sensex falls over 500 pts, Nifty trades below ...   \n",
       "3  13 flyers 'severely injured' as SpiceJet faces...   \n",
       "4  'A soul so strong yet...': Sussanne Khan, Hrit...   \n",
       "5  Jagran Trending: Why is World Press Freedom Da...   \n",
       "6  7th Pay Commission Latest News: Chhattisgarh h...   \n",
       "7  India COVID-19 Tally: 3,157 cases and 26 death...   \n",
       "8  RBSE Class 10th, 12th Results 2022: Rajasthan ...   \n",
       "\n",
       "                                                 Url  \n",
       "0  https://english.jagran.com/latest-news?itm_med...  \n",
       "1  https://english.jagran.com/latest-news?itm_med...  \n",
       "2  https://english.jagran.com/latest-news?itm_med...  \n",
       "3  https://english.jagran.com/latest-news?itm_med...  \n",
       "4  https://english.jagran.com/latest-news?itm_med...  \n",
       "5  https://english.jagran.com/latest-news?itm_med...  \n",
       "6  https://english.jagran.com/latest-news?itm_med...  \n",
       "7  https://english.jagran.com/latest-news?itm_med...  \n",
       "8  https://english.jagran.com/latest-news?itm_med...  "
      ]
     },
     "execution_count": 24,
     "metadata": {},
     "output_type": "execute_result"
    }
   ],
   "source": [
    "news1_df"
   ]
  },
  {
   "cell_type": "code",
   "execution_count": 25,
   "metadata": {},
   "outputs": [
    {
     "data": {
      "text/plain": [
       "200"
      ]
     },
     "execution_count": 25,
     "metadata": {},
     "output_type": "execute_result"
    }
   ],
   "source": [
    "test_url2 = \"https://www2.bing.com/news/search?q=uttrakhand+crime+news&FORM=HDRSC6\"\n",
    "response = requests.get(test_url2)\n",
    "response.status_code"
   ]
  },
  {
   "cell_type": "code",
   "execution_count": 32,
   "metadata": {},
   "outputs": [
    {
     "name": "stderr",
     "output_type": "stream",
     "text": [
      "C:\\Users\\ACER\\AppData\\Local\\Temp\\ipykernel_3892\\1420038701.py:16: FutureWarning: The frame.append method is deprecated and will be removed from pandas in a future version. Use pandas.concat instead.\n",
      "  news1_df = news1_df.append(pd.DataFrame(news_d2),ignore_index=True)\n"
     ]
    }
   ],
   "source": [
    "tu2_contents = response.text\n",
    "with open('cri_nw2.html','w',encoding='utf-8') as f:\n",
    "    f.write(tu2_contents)\n",
    "\n",
    "doc2 = BeautifulSoup(tu2_contents,'html.parser')\n",
    "binge_head = doc2.find_all('a',{'class':'title'})\n",
    "head2=[]\n",
    "h_url2=[]\n",
    "for h in binge_head:\n",
    "    head2.append(h.text)\n",
    "    h_url2.append(h['href'])\n",
    "news_d2={\n",
    "    'Headline':head2,\n",
    "    'Url':h_url2\n",
    "}\n",
    "news1_df = news1_df.append(pd.DataFrame(news_d2),ignore_index=True)"
   ]
  },
  {
   "cell_type": "code",
   "execution_count": null,
   "metadata": {},
   "outputs": [],
   "source": []
  }
 ],
 "metadata": {
  "interpreter": {
   "hash": "aaa2d32309aa7ce0f397d0e81903e050bd163767a22d0d109bd73d79b6cf4dfe"
  },
  "kernelspec": {
   "display_name": "Python 3.10.4 64-bit",
   "language": "python",
   "name": "python3"
  },
  "language_info": {
   "codemirror_mode": {
    "name": "ipython",
    "version": 3
   },
   "file_extension": ".py",
   "mimetype": "text/x-python",
   "name": "python",
   "nbconvert_exporter": "python",
   "pygments_lexer": "ipython3",
   "version": "3.10.4"
  },
  "orig_nbformat": 4
 },
 "nbformat": 4,
 "nbformat_minor": 2
}
