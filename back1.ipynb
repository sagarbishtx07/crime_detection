{
 "cells": [
  {
   "cell_type": "code",
   "execution_count": 2,
   "metadata": {},
   "outputs": [
    {
     "data": {
      "text/plain": [
       "200"
      ]
     },
     "execution_count": 2,
     "metadata": {},
     "output_type": "execute_result"
    }
   ],
   "source": [
    "import pandas as pd\n",
    "from bs4 import BeautifulSoup\n",
    "import requests\n",
    "\n",
    "test_url1 = \"https://english.jagran.com/latest-news?itm_medium=latestnews&itm_source=web&itm_campaign=navigation\"\n",
    "response = requests.get(test_url1)\n",
    "response.status_code"
   ]
  },
  {
   "cell_type": "code",
   "execution_count": 3,
   "metadata": {},
   "outputs": [],
   "source": [
    "tu1_contents = response.text\n",
    "#tu1_contents[:1000]"
   ]
  },
  {
   "cell_type": "code",
   "execution_count": 4,
   "metadata": {},
   "outputs": [],
   "source": [
    "with open('cri_nw1.html','w',encoding='utf-8') as f:\n",
    "    f.write(tu1_contents)"
   ]
  },
  {
   "cell_type": "code",
   "execution_count": 5,
   "metadata": {},
   "outputs": [],
   "source": [
    "doc1 = BeautifulSoup(tu1_contents,'html.parser')\n",
    "base_url1 = \"https://english.jagran.com/latest-news?itm_medium=latestnews&itm_source=web&itm_campaign=navigation\"\n",
    "head_main = doc1.find_all('div',{'class':'h3'})\n",
    "h_url1=[]\n",
    "head1=[]\n",
    "a_tag=''\n",
    "\n",
    "for i in range(0,9):\n",
    "    a_tag=head_main[i].parent.parent['href']\n",
    "    head1.append(head_main[i].text.strip())\n",
    "    h_url1.append(base_url1+a_tag)\n",
    "\n",
    "\n"
   ]
  },
  {
   "cell_type": "code",
   "execution_count": 6,
   "metadata": {},
   "outputs": [],
   "source": [
    "news_d1={\n",
    "    'Headline': head1,\n",
    "    'Url':h_url1\n",
    "}\n",
    "news1_df = pd.DataFrame(news_d1)"
   ]
  },
  {
   "cell_type": "code",
   "execution_count": 7,
   "metadata": {},
   "outputs": [
    {
     "data": {
      "text/html": [
       "<div>\n",
       "<style scoped>\n",
       "    .dataframe tbody tr th:only-of-type {\n",
       "        vertical-align: middle;\n",
       "    }\n",
       "\n",
       "    .dataframe tbody tr th {\n",
       "        vertical-align: top;\n",
       "    }\n",
       "\n",
       "    .dataframe thead th {\n",
       "        text-align: right;\n",
       "    }\n",
       "</style>\n",
       "<table border=\"1\" class=\"dataframe\">\n",
       "  <thead>\n",
       "    <tr style=\"text-align: right;\">\n",
       "      <th></th>\n",
       "      <th>Headline</th>\n",
       "      <th>Url</th>\n",
       "    </tr>\n",
       "  </thead>\n",
       "  <tbody>\n",
       "    <tr>\n",
       "      <th>0</th>\n",
       "      <td>Hanuman Chalisa Row: MP Navneet Kaur, husband ...</td>\n",
       "      <td>https://english.jagran.com/latest-news?itm_med...</td>\n",
       "    </tr>\n",
       "    <tr>\n",
       "      <th>1</th>\n",
       "      <td>Breaking News Today, May 4 LIVE | India report...</td>\n",
       "      <td>https://english.jagran.com/latest-news?itm_med...</td>\n",
       "    </tr>\n",
       "    <tr>\n",
       "      <th>2</th>\n",
       "      <td>LIC IPO opens subscription with price band of ...</td>\n",
       "      <td>https://english.jagran.com/latest-news?itm_med...</td>\n",
       "    </tr>\n",
       "    <tr>\n",
       "      <th>3</th>\n",
       "      <td>Gujarat Elections 2022: Rahul Gandhi reaches o...</td>\n",
       "      <td>https://english.jagran.com/latest-news?itm_med...</td>\n",
       "    </tr>\n",
       "    <tr>\n",
       "      <th>4</th>\n",
       "      <td>Koffee with Karan won't return for another sea...</td>\n",
       "      <td>https://english.jagran.com/latest-news?itm_med...</td>\n",
       "    </tr>\n",
       "    <tr>\n",
       "      <th>5</th>\n",
       "      <td>European Union set to unveil sanctions on Russ...</td>\n",
       "      <td>https://english.jagran.com/latest-news?itm_med...</td>\n",
       "    </tr>\n",
       "    <tr>\n",
       "      <th>6</th>\n",
       "      <td>Salman Khan and Shehnaaz Gill share a sweet mo...</td>\n",
       "      <td>https://english.jagran.com/latest-news?itm_med...</td>\n",
       "    </tr>\n",
       "    <tr>\n",
       "      <th>7</th>\n",
       "      <td>World Press Freedom Day: Role of press in Indi...</td>\n",
       "      <td>https://english.jagran.com/latest-news?itm_med...</td>\n",
       "    </tr>\n",
       "    <tr>\n",
       "      <th>8</th>\n",
       "      <td>Maharashtra Loudspeaker Row: MNS workers play ...</td>\n",
       "      <td>https://english.jagran.com/latest-news?itm_med...</td>\n",
       "    </tr>\n",
       "  </tbody>\n",
       "</table>\n",
       "</div>"
      ],
      "text/plain": [
       "                                            Headline  \\\n",
       "0  Hanuman Chalisa Row: MP Navneet Kaur, husband ...   \n",
       "1  Breaking News Today, May 4 LIVE | India report...   \n",
       "2  LIC IPO opens subscription with price band of ...   \n",
       "3  Gujarat Elections 2022: Rahul Gandhi reaches o...   \n",
       "4  Koffee with Karan won't return for another sea...   \n",
       "5  European Union set to unveil sanctions on Russ...   \n",
       "6  Salman Khan and Shehnaaz Gill share a sweet mo...   \n",
       "7  World Press Freedom Day: Role of press in Indi...   \n",
       "8  Maharashtra Loudspeaker Row: MNS workers play ...   \n",
       "\n",
       "                                                 Url  \n",
       "0  https://english.jagran.com/latest-news?itm_med...  \n",
       "1  https://english.jagran.com/latest-news?itm_med...  \n",
       "2  https://english.jagran.com/latest-news?itm_med...  \n",
       "3  https://english.jagran.com/latest-news?itm_med...  \n",
       "4  https://english.jagran.com/latest-news?itm_med...  \n",
       "5  https://english.jagran.com/latest-news?itm_med...  \n",
       "6  https://english.jagran.com/latest-news?itm_med...  \n",
       "7  https://english.jagran.com/latest-news?itm_med...  \n",
       "8  https://english.jagran.com/latest-news?itm_med...  "
      ]
     },
     "execution_count": 7,
     "metadata": {},
     "output_type": "execute_result"
    }
   ],
   "source": [
    "news1_df"
   ]
  },
  {
   "cell_type": "code",
   "execution_count": 8,
   "metadata": {},
   "outputs": [
    {
     "data": {
      "text/plain": [
       "200"
      ]
     },
     "execution_count": 8,
     "metadata": {},
     "output_type": "execute_result"
    }
   ],
   "source": [
    "test_url2 = \"https://www2.bing.com/news/search?q=uttrakhand+crime+news&qft=interval%3d%228%22&form=PTFTNR\"\n",
    "response = requests.get(test_url2)\n",
    "response.status_code"
   ]
  },
  {
   "cell_type": "code",
   "execution_count": 9,
   "metadata": {},
   "outputs": [
    {
     "name": "stderr",
     "output_type": "stream",
     "text": [
      "C:\\Users\\ACER\\AppData\\Local\\Temp\\ipykernel_15940\\2981759371.py:16: FutureWarning: The frame.append method is deprecated and will be removed from pandas in a future version. Use pandas.concat instead.\n",
      "  news1_df = news1_df.append(pd.DataFrame(news_d2),ignore_index=True)\n"
     ]
    }
   ],
   "source": [
    "tu2_contents = response.text\n",
    "with open('cri_nw2.html','w',encoding='utf-8') as f:\n",
    "    f.write(tu2_contents)\n",
    "\n",
    "doc2 = BeautifulSoup(tu2_contents,'html.parser')\n",
    "binge_head = doc2.find_all('a',{'class':'title'})\n",
    "head2=[]\n",
    "h_url2=[]\n",
    "for h in binge_head:\n",
    "    head2.append(h.text)\n",
    "    h_url2.append(h['href'])\n",
    "news_d2={\n",
    "    'Headline':head2,\n",
    "    'Url':h_url2\n",
    "}\n",
    "news1_df = news1_df.append(pd.DataFrame(news_d2),ignore_index=True)\n",
    "news1_df.to_csv('crime_n1.csv')"
   ]
  },
  {
   "cell_type": "code",
   "execution_count": 10,
   "metadata": {},
   "outputs": [
    {
     "data": {
      "text/html": [
       "<div>\n",
       "<style scoped>\n",
       "    .dataframe tbody tr th:only-of-type {\n",
       "        vertical-align: middle;\n",
       "    }\n",
       "\n",
       "    .dataframe tbody tr th {\n",
       "        vertical-align: top;\n",
       "    }\n",
       "\n",
       "    .dataframe thead th {\n",
       "        text-align: right;\n",
       "    }\n",
       "</style>\n",
       "<table border=\"1\" class=\"dataframe\">\n",
       "  <thead>\n",
       "    <tr style=\"text-align: right;\">\n",
       "      <th></th>\n",
       "      <th>Headline</th>\n",
       "      <th>Url</th>\n",
       "      <th>Date</th>\n",
       "    </tr>\n",
       "  </thead>\n",
       "  <tbody>\n",
       "    <tr>\n",
       "      <th>0</th>\n",
       "      <td>'Why Rahul has ties only with…': BJP's fresh j...</td>\n",
       "      <td>https://www.hindustantimes.com/india-news/why-...</td>\n",
       "      <td>38 minutes ago</td>\n",
       "    </tr>\n",
       "    <tr>\n",
       "      <th>1</th>\n",
       "      <td>अपराध पर अंकुश लगाना प्राथमिकता : थानाध्यक्ष</td>\n",
       "      <td>https://www.msn.com/hi-in/news/uttar-pradesh/e...</td>\n",
       "      <td>1 day ago</td>\n",
       "    </tr>\n",
       "    <tr>\n",
       "      <th>2</th>\n",
       "      <td>भ्रूण हत्या कानूनी के साथ सामाजिक अपराध</td>\n",
       "      <td>https://www.livehindustan.com/uttar-pradesh/ba...</td>\n",
       "      <td>10 hours ago</td>\n",
       "    </tr>\n",
       "    <tr>\n",
       "      <th>3</th>\n",
       "      <td>'The wife caught with the lover, the angry hus...</td>\n",
       "      <td>https://english.newstracklive.com/news/the-wif...</td>\n",
       "      <td>5 days ago</td>\n",
       "    </tr>\n",
       "    <tr>\n",
       "      <th>4</th>\n",
       "      <td>Opinion | How Yogi Adityanath’s Brand of Secul...</td>\n",
       "      <td>https://www.news18.com/news/opinion/opinion-ho...</td>\n",
       "      <td>5 minutes ago</td>\n",
       "    </tr>\n",
       "    <tr>\n",
       "      <th>5</th>\n",
       "      <td>Cyber crime: Experts dwell on legal issues</td>\n",
       "      <td>https://www.tribuneindia.com/news/chandigarh/c...</td>\n",
       "      <td>1 day ago</td>\n",
       "    </tr>\n",
       "    <tr>\n",
       "      <th>6</th>\n",
       "      <td>Joint coordination team holds conference in Ch...</td>\n",
       "      <td>https://www.msn.com/en-in/news/other/joint-coo...</td>\n",
       "      <td>1 day ago</td>\n",
       "    </tr>\n",
       "    <tr>\n",
       "      <th>7</th>\n",
       "      <td>Where’s Rahul? The times when the Congress lea...</td>\n",
       "      <td>https://www.firstpost.com/politics/wheres-rahu...</td>\n",
       "      <td>2 hours ago</td>\n",
       "    </tr>\n",
       "    <tr>\n",
       "      <th>8</th>\n",
       "      <td>Crime News: दुल्हन की मां के साथ 'जयमाला' के ब...</td>\n",
       "      <td>https://www.msn.com/hi-in/news/other/crime-new...</td>\n",
       "      <td>4 days ago</td>\n",
       "    </tr>\n",
       "    <tr>\n",
       "      <th>9</th>\n",
       "      <td>Sexual Violence, a Weapon to Reinforce Caste H...</td>\n",
       "      <td>https://www.thecitizen.in/index.php/en/NewsDet...</td>\n",
       "      <td>12 days ago</td>\n",
       "    </tr>\n",
       "  </tbody>\n",
       "</table>\n",
       "</div>"
      ],
      "text/plain": [
       "                                            Headline  \\\n",
       "0  'Why Rahul has ties only with…': BJP's fresh j...   \n",
       "1       अपराध पर अंकुश लगाना प्राथमिकता : थानाध्यक्ष   \n",
       "2            भ्रूण हत्या कानूनी के साथ सामाजिक अपराध   \n",
       "3  'The wife caught with the lover, the angry hus...   \n",
       "4  Opinion | How Yogi Adityanath’s Brand of Secul...   \n",
       "5         Cyber crime: Experts dwell on legal issues   \n",
       "6  Joint coordination team holds conference in Ch...   \n",
       "7  Where’s Rahul? The times when the Congress lea...   \n",
       "8  Crime News: दुल्हन की मां के साथ 'जयमाला' के ब...   \n",
       "9  Sexual Violence, a Weapon to Reinforce Caste H...   \n",
       "\n",
       "                                                 Url            Date  \n",
       "0  https://www.hindustantimes.com/india-news/why-...  38 minutes ago  \n",
       "1  https://www.msn.com/hi-in/news/uttar-pradesh/e...       1 day ago  \n",
       "2  https://www.livehindustan.com/uttar-pradesh/ba...    10 hours ago  \n",
       "3  https://english.newstracklive.com/news/the-wif...      5 days ago  \n",
       "4  https://www.news18.com/news/opinion/opinion-ho...   5 minutes ago  \n",
       "5  https://www.tribuneindia.com/news/chandigarh/c...       1 day ago  \n",
       "6  https://www.msn.com/en-in/news/other/joint-coo...       1 day ago  \n",
       "7  https://www.firstpost.com/politics/wheres-rahu...     2 hours ago  \n",
       "8  https://www.msn.com/hi-in/news/other/crime-new...      4 days ago  \n",
       "9  https://www.thecitizen.in/index.php/en/NewsDet...     12 days ago  "
      ]
     },
     "execution_count": 10,
     "metadata": {},
     "output_type": "execute_result"
    }
   ],
   "source": [
    "binge_date = doc2.find_all('span',{'tabindex':'0'})\n",
    "news_date1 = []\n",
    "for n in binge_date:\n",
    "    news_date1.append(n['aria-label'])\n",
    "news_date1\n",
    "news_d3={\n",
    "     'Headline':head2,\n",
    "    'Url':h_url2,\n",
    "    'Date':news_date1\n",
    "}\n",
    "news_df2=pd.DataFrame(news_d3)\n",
    "news_df2"
   ]
  },
  {
   "cell_type": "code",
   "execution_count": 11,
   "metadata": {},
   "outputs": [
    {
     "data": {
      "text/plain": [
       "200"
      ]
     },
     "execution_count": 11,
     "metadata": {},
     "output_type": "execute_result"
    }
   ],
   "source": [
    "test_url3 = 'https://timesofindia.indiatimes.com/city/dehradun'\n",
    "response = requests.get(test_url3)\n",
    "response.status_code"
   ]
  },
  {
   "cell_type": "code",
   "execution_count": 12,
   "metadata": {},
   "outputs": [],
   "source": [
    "tu3_contents = response.text\n",
    "with open('cri_nw3.html','w',encoding='utf-8') as f:\n",
    "    f.write(tu3_contents)\n",
    "\n",
    "doc3 = BeautifulSoup(tu3_contents,'html.parser')\n",
    "toi_head = doc3.find_all('span',{'class':'w_tle'})\n",
    "\n",
    "head3 = []\n",
    "url3 = []\n",
    "date = []\n",
    "base_url3 = 'https://timesofindia.indiatimes.com/city/dehradun'\n",
    "\n",
    "for i in range(0,len(toi_head)):\n",
    "    head3.append(toi_head[i].contents[0]['title'])\n",
    "    url3.append(base_url3 + toi_head[i].contents[0]['href'])\n",
    "    date.append('23/11/22') \n",
    "\n",
    "news_d3 = {\n",
    "    'Headline':head3,\n",
    "    'Url':url3,\n",
    "    'Date':date\n",
    "}\n",
    "\n",
    "news3_df = pd.DataFrame(news_d3)\n",
    "news3_df.to_csv('crime_n3.csv')\n"
   ]
  },
  {
   "cell_type": "code",
   "execution_count": 14,
   "metadata": {},
   "outputs": [],
   "source": []
  },
  {
   "cell_type": "code",
   "execution_count": 24,
   "metadata": {},
   "outputs": [],
   "source": []
  },
  {
   "cell_type": "code",
   "execution_count": 19,
   "metadata": {},
   "outputs": [
    {
     "data": {
      "text/plain": [
       "'Attempt to Murder (Section 307)'"
      ]
     },
     "execution_count": 19,
     "metadata": {},
     "output_type": "execute_result"
    }
   ],
   "source": []
  },
  {
   "cell_type": "code",
   "execution_count": null,
   "metadata": {},
   "outputs": [],
   "source": []
  }
 ],
 "metadata": {
  "interpreter": {
   "hash": "aaa2d32309aa7ce0f397d0e81903e050bd163767a22d0d109bd73d79b6cf4dfe"
  },
  "kernelspec": {
   "display_name": "Python 3.10.4 64-bit",
   "language": "python",
   "name": "python3"
  },
  "language_info": {
   "codemirror_mode": {
    "name": "ipython",
    "version": 3
   },
   "file_extension": ".py",
   "mimetype": "text/x-python",
   "name": "python",
   "nbconvert_exporter": "python",
   "pygments_lexer": "ipython3",
   "version": "3.10.4"
  },
  "orig_nbformat": 4
 },
 "nbformat": 4,
 "nbformat_minor": 2
}
