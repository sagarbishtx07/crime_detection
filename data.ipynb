{
 "cells": [
  {
   "cell_type": "code",
   "execution_count": 13,
   "metadata": {},
   "outputs": [],
   "source": [
    "import pandas as pd\n",
    "from bs4 import BeautifulSoup\n",
    "import requests\n",
    "\n",
    "crime_type_url = \"https://www.legalserviceindia.com/legal/article-4435-offences-under-indian-penal-code-an-overview.html\"\n",
    "response = requests.get(crime_type_url)\n",
    "#response.status_code\n",
    "crls_contents = response.text\n",
    "with open('cr_ls.html','w',encoding='utf-8') as f:\n",
    "    f.write(crls_contents)\n",
    "\n",
    "crls = BeautifulSoup(crls_contents,'html.parser')\n",
    "crlist = crls.find_all('b')\n",
    "\n",
    "cr_ipc = []\n",
    "for i in crlist:\n",
    "    cr_ipc.append(i.text.strip())\n",
    "ipclist = pd.DataFrame(cr_ipc)\n",
    "\n",
    "\n",
    "#ipclist.to_csv('ipc.csv')"
   ]
  },
  {
   "cell_type": "code",
   "execution_count": 14,
   "metadata": {},
   "outputs": [
    {
     "data": {
      "text/html": [
       "<div>\n",
       "<style scoped>\n",
       "    .dataframe tbody tr th:only-of-type {\n",
       "        vertical-align: middle;\n",
       "    }\n",
       "\n",
       "    .dataframe tbody tr th {\n",
       "        vertical-align: top;\n",
       "    }\n",
       "\n",
       "    .dataframe thead th {\n",
       "        text-align: right;\n",
       "    }\n",
       "</style>\n",
       "<table border=\"1\" class=\"dataframe\">\n",
       "  <thead>\n",
       "    <tr style=\"text-align: right;\">\n",
       "      <th></th>\n",
       "      <th>0</th>\n",
       "    </tr>\n",
       "  </thead>\n",
       "  <tbody>\n",
       "    <tr>\n",
       "      <th>0</th>\n",
       "      <td>File Copyright \\nOnline -\\n\\nFile mutual Divor...</td>\n",
       "    </tr>\n",
       "    <tr>\n",
       "      <th>1</th>\n",
       "      <td>Meaning of Offences</td>\n",
       "    </tr>\n",
       "    <tr>\n",
       "      <th>2</th>\n",
       "      <td>Types of Offences</td>\n",
       "    </tr>\n",
       "    <tr>\n",
       "      <th>3</th>\n",
       "      <td>Offences against Human Body</td>\n",
       "    </tr>\n",
       "    <tr>\n",
       "      <th>4</th>\n",
       "      <td>Culpable Homicide (Section 299)</td>\n",
       "    </tr>\n",
       "    <tr>\n",
       "      <th>...</th>\n",
       "      <td>...</td>\n",
       "    </tr>\n",
       "    <tr>\n",
       "      <th>116</th>\n",
       "      <td>Section 153 of the Act</td>\n",
       "    </tr>\n",
       "    <tr>\n",
       "      <th>117</th>\n",
       "      <td>Promoting Enmity (Section 153A)</td>\n",
       "    </tr>\n",
       "    <tr>\n",
       "      <th>118</th>\n",
       "      <td>Harbouring Persons Hired for an Unlawful Assem...</td>\n",
       "    </tr>\n",
       "    <tr>\n",
       "      <th>119</th>\n",
       "      <td>Affray (Section 159)</td>\n",
       "    </tr>\n",
       "    <tr>\n",
       "      <th>120</th>\n",
       "      <td>Punishment for Committing Affray (Section 160)</td>\n",
       "    </tr>\n",
       "  </tbody>\n",
       "</table>\n",
       "<p>121 rows × 1 columns</p>\n",
       "</div>"
      ],
      "text/plain": [
       "                                                     0\n",
       "0    File Copyright \\nOnline -\\n\\nFile mutual Divor...\n",
       "1                                  Meaning of Offences\n",
       "2                                    Types of Offences\n",
       "3                          Offences against Human Body\n",
       "4                      Culpable Homicide (Section 299)\n",
       "..                                                 ...\n",
       "116                             Section 153 of the Act\n",
       "117                    Promoting Enmity (Section 153A)\n",
       "118  Harbouring Persons Hired for an Unlawful Assem...\n",
       "119                               Affray (Section 159)\n",
       "120     Punishment for Committing Affray (Section 160)\n",
       "\n",
       "[121 rows x 1 columns]"
      ]
     },
     "execution_count": 14,
     "metadata": {},
     "output_type": "execute_result"
    }
   ],
   "source": [
    "for i in range(121,136):\n",
    "    ipclist = ipclist.drop(i)\n",
    "ipclist"
   ]
  },
  {
   "cell_type": "code",
   "execution_count": 3,
   "metadata": {},
   "outputs": [
    {
     "data": {
      "text/plain": [
       "200"
      ]
     },
     "execution_count": 3,
     "metadata": {},
     "output_type": "execute_result"
    }
   ],
   "source": [
    "deh_url = 'https://en.wikipedia.org/wiki/Dehradun_district#Towns'\n",
    "response = requests.get(deh_url)\n",
    "response.status_code"
   ]
  },
  {
   "cell_type": "code",
   "execution_count": 15,
   "metadata": {},
   "outputs": [],
   "source": [
    "deh_contents = response.text\n",
    "#dehradun[:500]\n",
    "with open('deh.html','w',encoding = 'utf-8') as f:\n",
    "    f.write(deh_contents)\n",
    "\n",
    "deh_doc = BeautifulSoup(deh_contents,'html.parser')\n",
    "list = deh_doc.find_all('a',{'class':'mw-redirect'})\n",
    "\n"
   ]
  },
  {
   "cell_type": "code",
   "execution_count": 22,
   "metadata": {},
   "outputs": [
    {
     "data": {
      "text/plain": [
       "200"
      ]
     },
     "execution_count": 22,
     "metadata": {},
     "output_type": "execute_result"
    }
   ],
   "source": [
    "ward_url_deh = 'https://www.census2011.co.in/data/subdistrict/304-dehradun--dehradun-uttarakhand.html'\n",
    "response = requests.get(ward_url_deh)\n",
    "response.status_code\n",
    "ward1_deh = response.text\n",
    "with open('ward_deh.html','w',encoding='utf-8') as f:\n",
    "    f.write(ward1_deh)\n",
    "\n",
    "deh_ward = BeautifulSoup(ward1_deh,'html.parser')\n",
    "ward_list = deh_ward.find_all('td',{'class':'alignleft'})\n",
    "\n",
    "#ward names in Dehradun\n",
    "ward = []\n",
    "\n",
    "for w in ward_list:\n",
    "     ward.append(w.contents[0].text)\n",
    "\n",
    "ward_dc = {'ward_name':ward}\n",
    "ward_df = pd.DataFrame(ward_dc)\n",
    "ward_df.to_csv(deh_ward.csv)\n",
    "state_list_url = 'https://www.census2011.co.in/states.php'\n",
    "response = requests.get(state_list_url)\n",
    "response.status_code\n",
    "\n"
   ]
  },
  {
   "cell_type": "code",
   "execution_count": 6,
   "metadata": {},
   "outputs": [
    {
     "data": {
      "text/plain": [
       "33049"
      ]
     },
     "execution_count": 6,
     "metadata": {},
     "output_type": "execute_result"
    }
   ],
   "source": [
    "state_contents = response.text\n",
    "with open('state_cont.html','w',encoding='utf-8') as f:\n",
    "    f.write(state_contents)\n",
    "\n",
    "state_doc = BeautifulSoup(state_contents,'html.parser')\n",
    "len(state_contents)\n"
   ]
  },
  {
   "cell_type": "code",
   "execution_count": null,
   "metadata": {},
   "outputs": [],
   "source": []
  }
 ],
 "metadata": {
  "interpreter": {
   "hash": "0d72b21489300652f2337cd7f80c57cc00ce6bbc92cf98d285c178d0a8ced433"
  },
  "kernelspec": {
   "display_name": "Python 3.10.4 64-bit",
   "language": "python",
   "name": "python3"
  },
  "language_info": {
   "codemirror_mode": {
    "name": "ipython",
    "version": 3
   },
   "file_extension": ".py",
   "mimetype": "text/x-python",
   "name": "python",
   "nbconvert_exporter": "python",
   "pygments_lexer": "ipython3",
   "version": "3.10.4"
  },
  "orig_nbformat": 4
 },
 "nbformat": 4,
 "nbformat_minor": 2
}
