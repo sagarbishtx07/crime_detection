{
 "cells": [
  {
   "cell_type": "code",
   "execution_count": 33,
   "metadata": {},
   "outputs": [
    {
     "data": {
      "text/html": [
       "        <script type=\"text/javascript\">\n",
       "        window.PlotlyConfig = {MathJaxConfig: 'local'};\n",
       "        if (window.MathJax && window.MathJax.Hub && window.MathJax.Hub.Config) {window.MathJax.Hub.Config({SVG: {font: \"STIX-Web\"}});}\n",
       "        if (typeof require !== 'undefined') {\n",
       "        require.undef(\"plotly\");\n",
       "        requirejs.config({\n",
       "            paths: {\n",
       "                'plotly': ['https://cdn.plot.ly/plotly-2.12.1.min']\n",
       "            }\n",
       "        });\n",
       "        require(['plotly'], function(Plotly) {\n",
       "            window._Plotly = Plotly;\n",
       "        });\n",
       "        }\n",
       "        </script>\n",
       "        "
      ]
     },
     "metadata": {},
     "output_type": "display_data"
    },
    {
     "name": "stderr",
     "output_type": "stream",
     "text": [
      "C:\\Users\\ACER\\AppData\\Local\\Temp\\ipykernel_16200\\2041283821.py:25: SettingWithCopyWarning:\n",
      "\n",
      "\n",
      "A value is trying to be set on a copy of a slice from a DataFrame\n",
      "\n",
      "See the caveats in the documentation: https://pandas.pydata.org/pandas-docs/stable/user_guide/indexing.html#returning-a-view-versus-a-copy\n",
      "\n"
     ]
    }
   ],
   "source": [
    "import pandas as pd\n",
    "from bs4 import BeautifulSoup\n",
    "import requests\n",
    "import plotly.express as px\n",
    "from plotly.offline import init_notebook_mode,iplot,plot\n",
    "init_notebook_mode(connected=True)\n",
    "import pandas as pd\n",
    "\n",
    "crime_type_url = \"https://www.legalserviceindia.com/legal/article-4435-offences-under-indian-penal-code-an-overview.html\"\n",
    "response = requests.get(crime_type_url)\n",
    "#response.status_code\n",
    "crls_contents = response.text\n",
    "with open('cr_ls.html','w',encoding='utf-8') as f:\n",
    "    f.write(crls_contents)\n",
    "\n",
    "crls = BeautifulSoup(crls_contents,'html.parser')\n",
    "crlist = crls.find_all('b')\n",
    "\n",
    "cr_ipc = []\n",
    "for i in crlist:\n",
    "    cr_ipc.append(i.text.strip())\n",
    "cr_ipcl = {'crime_type':cr_ipc,'count':0}\n",
    "ipclist = pd.DataFrame(cr_ipcl)\n",
    "for i in range(0,len(ipclist)):\n",
    "    ipclist['count'][i]=0\n"
   ]
  },
  {
   "cell_type": "code",
   "execution_count": 34,
   "metadata": {},
   "outputs": [],
   "source": [
    "for i in range(121,136):\n",
    "    ipclist = ipclist.drop(i)"
   ]
  },
  {
   "cell_type": "code",
   "execution_count": 35,
   "metadata": {},
   "outputs": [
    {
     "data": {
      "text/plain": [
       "200"
      ]
     },
     "execution_count": 35,
     "metadata": {},
     "output_type": "execute_result"
    }
   ],
   "source": [
    "deh_url = 'https://en.wikipedia.org/wiki/Dehradun_district#Towns'\n",
    "response = requests.get(deh_url)\n",
    "response.status_code"
   ]
  },
  {
   "cell_type": "code",
   "execution_count": 36,
   "metadata": {},
   "outputs": [],
   "source": [
    "deh_contents = response.text\n",
    "#dehradun[:500]\n",
    "with open('deh.html','w',encoding = 'utf-8') as f:\n",
    "    f.write(deh_contents)\n",
    "\n",
    "deh_doc = BeautifulSoup(deh_contents,'html.parser')\n",
    "list = deh_doc.find_all('a',{'class':'mw-redirect'})\n",
    "\n"
   ]
  },
  {
   "cell_type": "code",
   "execution_count": 37,
   "metadata": {},
   "outputs": [],
   "source": [
    "ward_url_deh = 'https://www.census2011.co.in/data/subdistrict/304-dehradun--dehradun-uttarakhand.html'\n",
    "response = requests.get(ward_url_deh)\n",
    "response.status_code\n",
    "ward1_deh = response.text\n",
    "with open('ward_deh.html','w',encoding='utf-8') as f:\n",
    "    f.write(ward1_deh)\n",
    "\n",
    "deh_ward = BeautifulSoup(ward1_deh,'html.parser')\n",
    "ward_list = deh_ward.find_all('td',{'class':'alignleft'})\n",
    "\n",
    "#ward names in Dehradun\n",
    "ward = []\n",
    "\n",
    "for w in ward_list:\n",
    "     ward.append(w.contents[0].text.strip())\n",
    "\n",
    "\n",
    "\n",
    "\n"
   ]
  },
  {
   "cell_type": "code",
   "execution_count": 38,
   "metadata": {},
   "outputs": [
    {
     "name": "stderr",
     "output_type": "stream",
     "text": [
      "C:\\Users\\ACER\\AppData\\Local\\Temp\\ipykernel_16200\\2297953694.py:4: SettingWithCopyWarning:\n",
      "\n",
      "\n",
      "A value is trying to be set on a copy of a slice from a DataFrame\n",
      "\n",
      "See the caveats in the documentation: https://pandas.pydata.org/pandas-docs/stable/user_guide/indexing.html#returning-a-view-versus-a-copy\n",
      "\n"
     ]
    }
   ],
   "source": [
    "ward_dc = {'ward_name':ward,'count':0}\n",
    "ward_df = pd.DataFrame(ward_dc)\n",
    "for i in range(0,len(ward_df)):\n",
    "    ward_df['count'][i]=0\n",
    "for i in range(157,172):\n",
    "    ward_df = ward_df.drop(i)\n",
    "\n"
   ]
  },
  {
   "cell_type": "code",
   "execution_count": 39,
   "metadata": {},
   "outputs": [],
   "source": [
    "#ward_df.to_csv('deh_ward.csv')"
   ]
  },
  {
   "cell_type": "code",
   "execution_count": 40,
   "metadata": {},
   "outputs": [],
   "source": [
    "cr1=pd.read_csv('crime_n1.csv')\n",
    "cr3 = pd.read_csv('crime_n3.csv')\n",
    "cr5 = pd.read_csv('crime_n5.csv')\n",
    "cr4 = pd.read_csv('crime_n4.csv')\n",
    "ipc = pd.read_csv('ipc.csv')\n",
    "ward_df=pd.read_csv('deh_ward_count_map.csv')\n",
    "\n",
    "\n"
   ]
  },
  {
   "cell_type": "code",
   "execution_count": 41,
   "metadata": {},
   "outputs": [
    {
     "name": "stderr",
     "output_type": "stream",
     "text": [
      "C:\\Users\\ACER\\AppData\\Local\\Temp\\ipykernel_16200\\799480787.py:5: SettingWithCopyWarning:\n",
      "\n",
      "\n",
      "A value is trying to be set on a copy of a slice from a DataFrame\n",
      "\n",
      "See the caveats in the documentation: https://pandas.pydata.org/pandas-docs/stable/user_guide/indexing.html#returning-a-view-versus-a-copy\n",
      "\n"
     ]
    }
   ],
   "source": [
    "import numpy as np\n",
    "for i in range(0,len(cr1)):\n",
    "    for j in range(0,len(ward_df)):\n",
    "        if ward_df['ward_name'][j] in cr1['Headline'][i]:\n",
    "            ward_df['count'].loc[j]=ward_df['count'][j]+1\n",
    "    for k in range(0,len(ipclist)):\n",
    "        if ipclist['crime_type'][k] in cr1['Headline'][i]:\n",
    "            ipclist['count'].loc[k]+=ipclist['count'][k]+1\n"
   ]
  },
  {
   "cell_type": "code",
   "execution_count": 42,
   "metadata": {},
   "outputs": [],
   "source": [
    "for i in range(0,len(cr3)):\n",
    "    for j in range(0,len(ward_df)):\n",
    "        if ward_df['ward_name'][j] in cr3['Headline'][i]:\n",
    "            ward_df['count'].loc[j]=ward_df['count'][j]+1\n",
    "    for k in range(0,len(ipclist)):\n",
    "        if ipclist['crime_type'][k] in cr3['Headline'][i]:\n",
    "            ipclist['count'].loc[k]+=ipclist['count'][k]+1\n",
    "\n",
    "\n",
    "    "
   ]
  },
  {
   "cell_type": "code",
   "execution_count": 43,
   "metadata": {},
   "outputs": [
    {
     "name": "stderr",
     "output_type": "stream",
     "text": [
      "C:\\Users\\ACER\\AppData\\Local\\Temp\\ipykernel_16200\\1109684119.py:4: SettingWithCopyWarning:\n",
      "\n",
      "\n",
      "A value is trying to be set on a copy of a slice from a DataFrame\n",
      "\n",
      "See the caveats in the documentation: https://pandas.pydata.org/pandas-docs/stable/user_guide/indexing.html#returning-a-view-versus-a-copy\n",
      "\n",
      "C:\\Users\\ACER\\AppData\\Local\\Temp\\ipykernel_16200\\1109684119.py:7: SettingWithCopyWarning:\n",
      "\n",
      "\n",
      "A value is trying to be set on a copy of a slice from a DataFrame\n",
      "\n",
      "See the caveats in the documentation: https://pandas.pydata.org/pandas-docs/stable/user_guide/indexing.html#returning-a-view-versus-a-copy\n",
      "\n"
     ]
    }
   ],
   "source": [
    "for i in range(0,len(cr4)):\n",
    "    for j in range(0,len(ward_df)):\n",
    "        if ward_df['ward_name'][j] in cr4['Headline'][i]:\n",
    "            ward_df['count'].loc[j]=ward_df['count'][j]+1\n",
    "    for k in range(0,len(ipclist)):\n",
    "        if ipclist['crime_type'][k] in cr4['Headline'][i]:\n",
    "            ipclist['count'].loc[k]+=ipclist['count'][k]+1\n"
   ]
  },
  {
   "cell_type": "code",
   "execution_count": 44,
   "metadata": {},
   "outputs": [],
   "source": [
    "for i in range(0,len(cr5)):\n",
    "    for j in range(0,len(ward_df)):\n",
    "        if ward_df['ward_name'][j] in cr5['Headline'][i]:\n",
    "            ward_df['count'].loc[j]=ward_df['count'][j]+1\n",
    "    for k in range(0,len(ipclist)):\n",
    "        if ipclist['crime_type'][k] in cr5['Headline'][i]:\n",
    "            ipclist['count'].loc[k]+=ipclist['count'][k]+1\n"
   ]
  },
  {
   "cell_type": "code",
   "execution_count": 45,
   "metadata": {},
   "outputs": [
    {
     "name": "stdout",
     "output_type": "stream",
     "text": [
      "XX\n"
     ]
    },
    {
     "name": "stderr",
     "output_type": "stream",
     "text": [
      "C:\\Users\\ACER\\AppData\\Local\\Temp\\ipykernel_16200\\3020959363.py:3: SettingWithCopyWarning:\n",
      "\n",
      "\n",
      "A value is trying to be set on a copy of a slice from a DataFrame\n",
      "\n",
      "See the caveats in the documentation: https://pandas.pydata.org/pandas-docs/stable/user_guide/indexing.html#returning-a-view-versus-a-copy\n",
      "\n"
     ]
    }
   ],
   "source": [
    "if ward_df['ward_name'][2] in cr1['Headline'][9]:\n",
    "    print(\"XX\")\n",
    "    ward_df['count'].loc[2]=ward_df['count'][2]+1"
   ]
  },
  {
   "cell_type": "code",
   "execution_count": 46,
   "metadata": {},
   "outputs": [
    {
     "data": {
      "text/html": [
       "<div>\n",
       "<style scoped>\n",
       "    .dataframe tbody tr th:only-of-type {\n",
       "        vertical-align: middle;\n",
       "    }\n",
       "\n",
       "    .dataframe tbody tr th {\n",
       "        vertical-align: top;\n",
       "    }\n",
       "\n",
       "    .dataframe thead th {\n",
       "        text-align: right;\n",
       "    }\n",
       "</style>\n",
       "<table border=\"1\" class=\"dataframe\">\n",
       "  <thead>\n",
       "    <tr style=\"text-align: right;\">\n",
       "      <th></th>\n",
       "      <th>Unnamed: 0</th>\n",
       "      <th>ward_name</th>\n",
       "      <th>count</th>\n",
       "      <th>latitude</th>\n",
       "      <th>longitude</th>\n",
       "    </tr>\n",
       "  </thead>\n",
       "  <tbody>\n",
       "    <tr>\n",
       "      <th>0</th>\n",
       "      <td>0</td>\n",
       "      <td>Dehradun Municipal Corporation</td>\n",
       "      <td>0</td>\n",
       "      <td>NaN</td>\n",
       "      <td>NaN</td>\n",
       "    </tr>\n",
       "    <tr>\n",
       "      <th>1</th>\n",
       "      <td>1</td>\n",
       "      <td>Dehradun Cantonment Board</td>\n",
       "      <td>0</td>\n",
       "      <td>NaN</td>\n",
       "      <td>NaN</td>\n",
       "    </tr>\n",
       "    <tr>\n",
       "      <th>2</th>\n",
       "      <td>2</td>\n",
       "      <td>Raipur Census Town</td>\n",
       "      <td>2</td>\n",
       "      <td>30.306030</td>\n",
       "      <td>78.098587</td>\n",
       "    </tr>\n",
       "    <tr>\n",
       "      <th>3</th>\n",
       "      <td>3</td>\n",
       "      <td>Mussoorie Nagar Palika Parishad</td>\n",
       "      <td>1</td>\n",
       "      <td>30.456901</td>\n",
       "      <td>78.074936</td>\n",
       "    </tr>\n",
       "    <tr>\n",
       "      <th>4</th>\n",
       "      <td>4</td>\n",
       "      <td>Clement Town Cantonment Board</td>\n",
       "      <td>11</td>\n",
       "      <td>30.261328</td>\n",
       "      <td>78.012012</td>\n",
       "    </tr>\n",
       "    <tr>\n",
       "      <th>...</th>\n",
       "      <td>...</td>\n",
       "      <td>...</td>\n",
       "      <td>...</td>\n",
       "      <td>...</td>\n",
       "      <td>...</td>\n",
       "    </tr>\n",
       "    <tr>\n",
       "      <th>152</th>\n",
       "      <td>152</td>\n",
       "      <td>Tibbanala Pani</td>\n",
       "      <td>1</td>\n",
       "      <td>30.337965</td>\n",
       "      <td>78.099908</td>\n",
       "    </tr>\n",
       "    <tr>\n",
       "      <th>153</th>\n",
       "      <td>153</td>\n",
       "      <td>Timilimansingh</td>\n",
       "      <td>0</td>\n",
       "      <td>30.381967</td>\n",
       "      <td>78.134440</td>\n",
       "    </tr>\n",
       "    <tr>\n",
       "      <th>154</th>\n",
       "      <td>154</td>\n",
       "      <td>Utari Gaon</td>\n",
       "      <td>1</td>\n",
       "      <td>30.398642</td>\n",
       "      <td>78.064567</td>\n",
       "    </tr>\n",
       "    <tr>\n",
       "      <th>155</th>\n",
       "      <td>155</td>\n",
       "      <td>Vijepur Gopiwala</td>\n",
       "      <td>2</td>\n",
       "      <td>30.374729</td>\n",
       "      <td>78.055711</td>\n",
       "    </tr>\n",
       "    <tr>\n",
       "      <th>156</th>\n",
       "      <td>156</td>\n",
       "      <td>Vijepur Hathibarkala</td>\n",
       "      <td>1</td>\n",
       "      <td>30.352659</td>\n",
       "      <td>78.056789</td>\n",
       "    </tr>\n",
       "  </tbody>\n",
       "</table>\n",
       "<p>157 rows × 5 columns</p>\n",
       "</div>"
      ],
      "text/plain": [
       "     Unnamed: 0                        ward_name  count   latitude  longitude \n",
       "0             0   Dehradun Municipal Corporation      0        NaN         NaN\n",
       "1             1        Dehradun Cantonment Board      0        NaN         NaN\n",
       "2             2               Raipur Census Town      2  30.306030   78.098587\n",
       "3             3  Mussoorie Nagar Palika Parishad      1  30.456901   78.074936\n",
       "4             4    Clement Town Cantonment Board     11  30.261328   78.012012\n",
       "..          ...                              ...    ...        ...         ...\n",
       "152         152                   Tibbanala Pani      1  30.337965   78.099908\n",
       "153         153                   Timilimansingh      0  30.381967   78.134440\n",
       "154         154                       Utari Gaon      1  30.398642   78.064567\n",
       "155         155                 Vijepur Gopiwala      2  30.374729   78.055711\n",
       "156         156             Vijepur Hathibarkala      1  30.352659   78.056789\n",
       "\n",
       "[157 rows x 5 columns]"
      ]
     },
     "execution_count": 46,
     "metadata": {},
     "output_type": "execute_result"
    }
   ],
   "source": [
    "ward_df"
   ]
  },
  {
   "cell_type": "markdown",
   "metadata": {},
   "source": []
  },
  {
   "cell_type": "code",
   "execution_count": 47,
   "metadata": {},
   "outputs": [],
   "source": [
    "ward_df = ward_df.drop(0)\n",
    "ward_df = ward_df.drop(1)"
   ]
  },
  {
   "cell_type": "code",
   "execution_count": 48,
   "metadata": {},
   "outputs": [
    {
     "data": {
      "application/vnd.plotly.v1+json": {
       "config": {
        "plotlyServerURL": "https://plot.ly"
       },
       "data": [
        {
         "coloraxis": "coloraxis",
         "hovertemplate": "<b>%{hovertext}</b><br><br>count=%{z}<br>latitude=%{lat}<br>longitude =%{lon}<extra></extra>",
         "hovertext": [
          "Raipur Census Town",
          "Mussoorie Nagar Palika Parishad",
          "Clement Town Cantonment Board",
          "Natthan Pur Census Town",
          "Mehu Wala Mafi Census Town",
          "Natthuwa Wala Census Town",
          "Doiwala Nagar Panchayat",
          "Landaur Cantonment Board",
          "Akhandwali Bhilang",
          "Amwala Karanpur",
          "Amwala Manjhala",
          "Amwala Tarala",
          "Arcadia Grant",
          "Asarori",
          "Ashkrodi Range",
          "Asthal",
          "Badripur",
          "Bagradhauran",
          "Bagral Gaon",
          "Bajhet",
          "Balawala",
          "Bandawali",
          "Banjarewala Mafi",
          "Banvtha",
          "Barasi Grant",
          "Bhagwant Pur",
          "Bhaiswargaon",
          "Bhandar Gaon",
          "Bhandariwala",
          "Bhitar Wali",
          "Bhopalpani Grant",
          "Bilas Pur Kandali",
          "Bisht Gaon",
          "Brahman Gaon",
          "Chaktonwala Grant",
          "Chalang",
          "Chamasari",
          "Chandrabani",
          "Chandrothi",
          "Chandrvani Grant",
          "Chandrwani Khalsa",
          "Chhamroli",
          "Daiswala",
          "Danda Dhoran",
          "Danda Khudanewala",
          "Danda Lakhaur",
          "Danda Nooriwala",
          "Danion Ka Danda",
          "Dhanaula",
          "Doiwala",
          "Doom Gaon",
          "Dudhali",
          "Dumal Gaon",
          "Dwara",
          "Fuleta",
          "Gajiawala",
          "Galajwari",
          "Gangole Pandit Wari",
          "Ghanghora",
          "Ghissar Pari",
          "Gujrami",
          "Gujrara Mansingh",
          "Guniyal Gaon",
          "Hansuwala",
          "Harbans Wala",
          "Harbhaj Wala",
          "Haripur",
          "Hariyawala Khurd",
          "Harrawala",
          "Haryawala",
          "Hatwalgaon",
          "Jagatkhana",
          "Jamoliwala",
          "Jamoliwala",
          "Johari",
          "Kairwan Karanpur",
          "Kalagaon",
          "Kalimati",
          "Karliguard",
          "Khala Gaon",
          "Kheragopiwala",
          "Kheri Mansingh",
          "Khuranwa",
          "Kirsali",
          "Kirsali Gaon",
          "Kishan Pur",
          "Kiwara",
          "Kulhan Karanpur",
          "Kulhan Mansingh",
          "Kuthal Gaon",
          "Kuwan Wala",
          "Kyar Kuli Bhatta",
          "Lachhi Wala",
          "Lachhiwala Range",
          "Ladpur",
          "Majari Mafi",
          "Majhara",
          "Makka Wala",
          "Malsi",
          "Mangaluwala",
          "Marautha",
          "Markham Grant",
          "Missar Wala Kala",
          "Missar Wala Khurd",
          "Mitt Behti",
          "Miyanwala",
          "Mohabbey Wala",
          "Mohammadpur Barkali",
          "Mohkam Pur Kala",
          "Mohkam Pur Khurd",
          "Motharo Wala",
          "Motidhar",
          "Mussorie Range",
          "Mussorie Range",
          "Nagal Bulandawala",
          "Nagal Jwalapur",
          "Nagalhat Nala",
          "Nakraunda",
          "Naliwala",
          "Nanur Khera",
          "Nawada",
          "Paw Wala Soda",
          "Phanduwala",
          "Pitthuwala",
          "Punkal Gaon",
          "Purohit Wala",
          "Pustari",
          "Raipur Range",
          "Ramgarh Range",
          "Reniwala",
          "Rikhauli",
          "Salan Gaon",
          "Saloniwala",
          "Sarauna",
          "Sarkhet",
          "Saundhauwali Mansingh",
          "Sera goan",
          "Seraki",
          "Shewala Kala",
          "Shewala Khurd",
          "Sigli",
          "Silla",
          "Simiyari",
          "Simlas Grant",
          "Sinaula",
          "Sindhuwala Dhauran",
          "Sodasaroli",
          "Sunderwala",
          "Tarla Nagal",
          "Thewa",
          "Tibbanala Pani",
          "Timilimansingh",
          "Utari Gaon",
          "Vijepur Gopiwala",
          "Vijepur Hathibarkala"
         ],
         "lat": [
          30.30603,
          30.4569012,
          30.2613281,
          30.2835847,
          30.31138745,
          30.30984363,
          30.17228565,
          30.46034775,
          30.30549532,
          30.34604921,
          30.33907647,
          30.33415699,
          30.31266541,
          30.25283322,
          30.20704993,
          30.3531046,
          30.28366738,
          30.40833,
          30.40756543,
          30.3391201,
          30.26310717,
          30.37843356,
          30.27612677,
          30.36060198,
          30.24785611,
          30.41081524,
          30.39124786,
          30.40984922,
          30.37474664,
          30.42651129,
          30.25336386,
          30.35306704,
          30.39613676,
          30.40454824,
          30.28808781,
          30.3919667,
          30.4232489,
          30.28600214,
          30.38012237,
          30.27418885,
          30.27950151,
          30.40440247,
          30.18066969,
          30.36000881,
          30.35613793,
          30.35329382,
          30.35479736,
          30.39678237,
          30.39480913,
          30.1768858,
          30.41706173,
          30.23513203,
          30.40695086,
          30.30859838,
          30.41853269,
          30.37455523,
          30.39526064,
          30.38084767,
          30.36619345,
          30.14721467,
          30.35784522,
          30.3713248,
          30.39202951,
          30.1619024,
          30.31407554,
          30.29822106,
          30.27157693,
          30.37534311,
          30.32259854,
          30.32775192,
          30.33686516,
          30.3647111,
          30.4021763,
          30.4021763,
          30.37469204,
          30.40370693,
          30.29083608,
          30.26351428,
          30.40949342,
          30.40969805,
          30.41130818,
          30.36154274,
          30.39451039,
          30.37487005,
          30.40312168,
          30.3703179,
          30.42145749,
          30.37988518,
          30.37585291,
          30.40703868,
          30.24710987,
          30.43963584,
          30.19487016,
          30.20988809,
          30.31565933,
          30.26976553,
          30.41005819,
          30.40060156,
          30.38071888,
          30.32608979,
          30.38355636,
          30.16780055,
          30.18833161,
          30.17760113,
          30.32057847,
          30.26658186,
          30.27353321,
          30.24897179,
          30.2761192,
          30.26189831,
          30.26523652,
          29.98901186,
          30.46263322,
          30.46263322,
          30.22692203,
          30.21435199,
          30.38698557,
          30.23690459,
          30.43527609,
          30.32985595,
          30.26549618,
          30.24315205,
          30.24294448,
          30.29165427,
          30.41742004,
          30.37245271,
          30.37413827,
          30.43317525,
          30.10459907,
          30.35528431,
          30.41951181,
          30.40918165,
          30.39522576,
          30.41667513,
          30.37878695,
          30.3380333,
          30.30431179,
          30.34826642,
          30.29403956,
          30.29403956,
          30.40207454,
          30.42507578,
          30.41020023,
          30.20118172,
          30.38058322,
          30.34493066,
          30.28328657,
          30.32167206,
          30.3766811,
          30.33975403,
          30.33796459,
          30.3819667,
          30.3986421,
          30.37472936,
          30.35265937
         ],
         "lon": [
          78.098587,
          78.0749361,
          78.0120117,
          78.07601446,
          77.98641525,
          77.98990126,
          78.11712643,
          78.09775587,
          78.16233534,
          78.09109608,
          78.08169107,
          78.07201867,
          77.95516692,
          77.98172744,
          77.99726308,
          78.11170479,
          78.06449479,
          78.12516247,
          78.07761799,
          78.10619558,
          78.10348047,
          78.12095828,
          78.02499926,
          78.11615756,
          78.16349204,
          78.06765941,
          78.14361602,
          78.09196061,
          78.1162098,
          78.03466597,
          78.15729744,
          77.99333565,
          78.04640239,
          78.06552869,
          78.09455578,
          78.10543509,
          78.10554386,
          77.97200979,
          78.05875407,
          77.98134761,
          77.98418837,
          78.16807723,
          78.11961659,
          78.08816708,
          78.0950083,
          78.09854827,
          78.08374148,
          78.08186973,
          78.12150526,
          78.1180711,
          78.0734184,
          78.01310394,
          78.09774514,
          78.1212213,
          78.17305631,
          78.04428042,
          78.03125683,
          78.04685189,
          78.01139264,
          78.13018787,
          78.10811532,
          78.09455346,
          78.06869746,
          78.14293685,
          77.9863972,
          77.96233178,
          78.06166649,
          78.006285,
          78.04133701,
          78.08817503,
          78.09384523,
          78.09944233,
          78.05111404,
          78.05111404,
          78.06744885,
          78.10605232,
          78.03074151,
          78.17076497,
          78.14079455,
          78.0805424,
          78.0438629,
          78.13021671,
          78.0988192,
          78.10421501,
          78.08408235,
          78.0808595,
          78.21854903,
          78.10596,
          78.10889137,
          78.08391922,
          78.09773666,
          78.05178869,
          78.13973685,
          78.10022546,
          78.07419376,
          78.07002836,
          78.1317442,
          78.07436675,
          78.06057503,
          78.09600515,
          78.11273262,
          78.10791567,
          78.12335179,
          78.12219164,
          77.95778866,
          78.09095973,
          77.97862945,
          77.99135233,
          78.07887728,
          78.07480001,
          78.03096381,
          78.18669736,
          77.97933627,
          77.97933627,
          78.01605143,
          78.0367059,
          78.10926337,
          78.12812244,
          78.15172804,
          78.07688005,
          78.06012064,
          78.17853573,
          78.00101108,
          77.98299679,
          78.05701156,
          78.0289759,
          78.13618015,
          78.12280412,
          78.08165879,
          78.12407755,
          78.00806825,
          78.06598188,
          78.06000349,
          78.14589489,
          78.14966543,
          78.07620901,
          78.23125361,
          78.13504322,
          77.99503996,
          77.99503996,
          78.05318932,
          78.20350677,
          78.19695802,
          78.03794082,
          78.07275505,
          77.93022695,
          78.13927035,
          78.08489472,
          78.09208543,
          78.12127428,
          78.09990825,
          78.13443992,
          78.06456691,
          78.05571052,
          78.05678883
         ],
         "name": "",
         "radius": 20,
         "subplot": "mapbox",
         "type": "densitymapbox",
         "z": [
          2,
          1,
          11,
          0,
          12,
          1,
          5,
          0,
          1,
          1,
          2,
          3,
          3,
          0,
          2,
          17,
          14,
          6,
          0,
          0,
          11,
          2,
          20,
          0,
          0,
          0,
          0,
          1,
          0,
          0,
          2,
          2,
          1,
          0,
          5,
          1,
          0,
          2,
          1,
          0,
          1,
          2,
          0,
          0,
          0,
          0,
          0,
          0,
          0,
          0,
          0,
          0,
          0,
          0,
          3,
          0,
          0,
          0,
          0,
          0,
          0,
          0,
          0,
          3,
          2,
          3,
          8,
          0,
          15,
          0,
          0,
          0,
          0,
          1,
          2,
          0,
          0,
          0,
          0,
          0,
          0,
          0,
          0,
          2,
          0,
          0,
          0,
          0,
          0,
          0,
          0,
          0,
          0,
          0,
          0,
          10,
          0,
          0,
          1,
          0,
          0,
          0,
          0,
          0,
          0,
          11,
          5,
          0,
          3,
          8,
          2,
          0,
          2,
          0,
          0,
          0,
          6,
          11,
          0,
          0,
          0,
          0,
          0,
          7,
          0,
          0,
          0,
          2,
          0,
          0,
          0,
          0,
          0,
          0,
          0,
          3,
          2,
          0,
          2,
          2,
          0,
          0,
          2,
          0,
          0,
          0,
          0,
          0,
          0,
          1,
          1,
          0,
          1,
          2,
          1
         ]
        }
       ],
       "layout": {
        "coloraxis": {
         "colorbar": {
          "title": {
           "text": "count"
          }
         },
         "colorscale": [
          [
           0,
           "#0d0887"
          ],
          [
           0.1111111111111111,
           "#46039f"
          ],
          [
           0.2222222222222222,
           "#7201a8"
          ],
          [
           0.3333333333333333,
           "#9c179e"
          ],
          [
           0.4444444444444444,
           "#bd3786"
          ],
          [
           0.5555555555555556,
           "#d8576b"
          ],
          [
           0.6666666666666666,
           "#ed7953"
          ],
          [
           0.7777777777777778,
           "#fb9f3a"
          ],
          [
           0.8888888888888888,
           "#fdca26"
          ],
          [
           1,
           "#f0f921"
          ]
         ]
        },
        "legend": {
         "tracegroupgap": 0
        },
        "mapbox": {
         "center": {
          "lat": 30.3165,
          "lon": 78.0322
         },
         "domain": {
          "x": [
           0,
           1
          ],
          "y": [
           0,
           1
          ]
         },
         "style": "stamen-terrain",
         "zoom": 5
        },
        "margin": {
         "t": 60
        },
        "template": {
         "data": {
          "bar": [
           {
            "error_x": {
             "color": "#2a3f5f"
            },
            "error_y": {
             "color": "#2a3f5f"
            },
            "marker": {
             "line": {
              "color": "#E5ECF6",
              "width": 0.5
             },
             "pattern": {
              "fillmode": "overlay",
              "size": 10,
              "solidity": 0.2
             }
            },
            "type": "bar"
           }
          ],
          "barpolar": [
           {
            "marker": {
             "line": {
              "color": "#E5ECF6",
              "width": 0.5
             },
             "pattern": {
              "fillmode": "overlay",
              "size": 10,
              "solidity": 0.2
             }
            },
            "type": "barpolar"
           }
          ],
          "carpet": [
           {
            "aaxis": {
             "endlinecolor": "#2a3f5f",
             "gridcolor": "white",
             "linecolor": "white",
             "minorgridcolor": "white",
             "startlinecolor": "#2a3f5f"
            },
            "baxis": {
             "endlinecolor": "#2a3f5f",
             "gridcolor": "white",
             "linecolor": "white",
             "minorgridcolor": "white",
             "startlinecolor": "#2a3f5f"
            },
            "type": "carpet"
           }
          ],
          "choropleth": [
           {
            "colorbar": {
             "outlinewidth": 0,
             "ticks": ""
            },
            "type": "choropleth"
           }
          ],
          "contour": [
           {
            "colorbar": {
             "outlinewidth": 0,
             "ticks": ""
            },
            "colorscale": [
             [
              0,
              "#0d0887"
             ],
             [
              0.1111111111111111,
              "#46039f"
             ],
             [
              0.2222222222222222,
              "#7201a8"
             ],
             [
              0.3333333333333333,
              "#9c179e"
             ],
             [
              0.4444444444444444,
              "#bd3786"
             ],
             [
              0.5555555555555556,
              "#d8576b"
             ],
             [
              0.6666666666666666,
              "#ed7953"
             ],
             [
              0.7777777777777778,
              "#fb9f3a"
             ],
             [
              0.8888888888888888,
              "#fdca26"
             ],
             [
              1,
              "#f0f921"
             ]
            ],
            "type": "contour"
           }
          ],
          "contourcarpet": [
           {
            "colorbar": {
             "outlinewidth": 0,
             "ticks": ""
            },
            "type": "contourcarpet"
           }
          ],
          "heatmap": [
           {
            "colorbar": {
             "outlinewidth": 0,
             "ticks": ""
            },
            "colorscale": [
             [
              0,
              "#0d0887"
             ],
             [
              0.1111111111111111,
              "#46039f"
             ],
             [
              0.2222222222222222,
              "#7201a8"
             ],
             [
              0.3333333333333333,
              "#9c179e"
             ],
             [
              0.4444444444444444,
              "#bd3786"
             ],
             [
              0.5555555555555556,
              "#d8576b"
             ],
             [
              0.6666666666666666,
              "#ed7953"
             ],
             [
              0.7777777777777778,
              "#fb9f3a"
             ],
             [
              0.8888888888888888,
              "#fdca26"
             ],
             [
              1,
              "#f0f921"
             ]
            ],
            "type": "heatmap"
           }
          ],
          "heatmapgl": [
           {
            "colorbar": {
             "outlinewidth": 0,
             "ticks": ""
            },
            "colorscale": [
             [
              0,
              "#0d0887"
             ],
             [
              0.1111111111111111,
              "#46039f"
             ],
             [
              0.2222222222222222,
              "#7201a8"
             ],
             [
              0.3333333333333333,
              "#9c179e"
             ],
             [
              0.4444444444444444,
              "#bd3786"
             ],
             [
              0.5555555555555556,
              "#d8576b"
             ],
             [
              0.6666666666666666,
              "#ed7953"
             ],
             [
              0.7777777777777778,
              "#fb9f3a"
             ],
             [
              0.8888888888888888,
              "#fdca26"
             ],
             [
              1,
              "#f0f921"
             ]
            ],
            "type": "heatmapgl"
           }
          ],
          "histogram": [
           {
            "marker": {
             "pattern": {
              "fillmode": "overlay",
              "size": 10,
              "solidity": 0.2
             }
            },
            "type": "histogram"
           }
          ],
          "histogram2d": [
           {
            "colorbar": {
             "outlinewidth": 0,
             "ticks": ""
            },
            "colorscale": [
             [
              0,
              "#0d0887"
             ],
             [
              0.1111111111111111,
              "#46039f"
             ],
             [
              0.2222222222222222,
              "#7201a8"
             ],
             [
              0.3333333333333333,
              "#9c179e"
             ],
             [
              0.4444444444444444,
              "#bd3786"
             ],
             [
              0.5555555555555556,
              "#d8576b"
             ],
             [
              0.6666666666666666,
              "#ed7953"
             ],
             [
              0.7777777777777778,
              "#fb9f3a"
             ],
             [
              0.8888888888888888,
              "#fdca26"
             ],
             [
              1,
              "#f0f921"
             ]
            ],
            "type": "histogram2d"
           }
          ],
          "histogram2dcontour": [
           {
            "colorbar": {
             "outlinewidth": 0,
             "ticks": ""
            },
            "colorscale": [
             [
              0,
              "#0d0887"
             ],
             [
              0.1111111111111111,
              "#46039f"
             ],
             [
              0.2222222222222222,
              "#7201a8"
             ],
             [
              0.3333333333333333,
              "#9c179e"
             ],
             [
              0.4444444444444444,
              "#bd3786"
             ],
             [
              0.5555555555555556,
              "#d8576b"
             ],
             [
              0.6666666666666666,
              "#ed7953"
             ],
             [
              0.7777777777777778,
              "#fb9f3a"
             ],
             [
              0.8888888888888888,
              "#fdca26"
             ],
             [
              1,
              "#f0f921"
             ]
            ],
            "type": "histogram2dcontour"
           }
          ],
          "mesh3d": [
           {
            "colorbar": {
             "outlinewidth": 0,
             "ticks": ""
            },
            "type": "mesh3d"
           }
          ],
          "parcoords": [
           {
            "line": {
             "colorbar": {
              "outlinewidth": 0,
              "ticks": ""
             }
            },
            "type": "parcoords"
           }
          ],
          "pie": [
           {
            "automargin": true,
            "type": "pie"
           }
          ],
          "scatter": [
           {
            "fillpattern": {
             "fillmode": "overlay",
             "size": 10,
             "solidity": 0.2
            },
            "type": "scatter"
           }
          ],
          "scatter3d": [
           {
            "line": {
             "colorbar": {
              "outlinewidth": 0,
              "ticks": ""
             }
            },
            "marker": {
             "colorbar": {
              "outlinewidth": 0,
              "ticks": ""
             }
            },
            "type": "scatter3d"
           }
          ],
          "scattercarpet": [
           {
            "marker": {
             "colorbar": {
              "outlinewidth": 0,
              "ticks": ""
             }
            },
            "type": "scattercarpet"
           }
          ],
          "scattergeo": [
           {
            "marker": {
             "colorbar": {
              "outlinewidth": 0,
              "ticks": ""
             }
            },
            "type": "scattergeo"
           }
          ],
          "scattergl": [
           {
            "marker": {
             "colorbar": {
              "outlinewidth": 0,
              "ticks": ""
             }
            },
            "type": "scattergl"
           }
          ],
          "scattermapbox": [
           {
            "marker": {
             "colorbar": {
              "outlinewidth": 0,
              "ticks": ""
             }
            },
            "type": "scattermapbox"
           }
          ],
          "scatterpolar": [
           {
            "marker": {
             "colorbar": {
              "outlinewidth": 0,
              "ticks": ""
             }
            },
            "type": "scatterpolar"
           }
          ],
          "scatterpolargl": [
           {
            "marker": {
             "colorbar": {
              "outlinewidth": 0,
              "ticks": ""
             }
            },
            "type": "scatterpolargl"
           }
          ],
          "scatterternary": [
           {
            "marker": {
             "colorbar": {
              "outlinewidth": 0,
              "ticks": ""
             }
            },
            "type": "scatterternary"
           }
          ],
          "surface": [
           {
            "colorbar": {
             "outlinewidth": 0,
             "ticks": ""
            },
            "colorscale": [
             [
              0,
              "#0d0887"
             ],
             [
              0.1111111111111111,
              "#46039f"
             ],
             [
              0.2222222222222222,
              "#7201a8"
             ],
             [
              0.3333333333333333,
              "#9c179e"
             ],
             [
              0.4444444444444444,
              "#bd3786"
             ],
             [
              0.5555555555555556,
              "#d8576b"
             ],
             [
              0.6666666666666666,
              "#ed7953"
             ],
             [
              0.7777777777777778,
              "#fb9f3a"
             ],
             [
              0.8888888888888888,
              "#fdca26"
             ],
             [
              1,
              "#f0f921"
             ]
            ],
            "type": "surface"
           }
          ],
          "table": [
           {
            "cells": {
             "fill": {
              "color": "#EBF0F8"
             },
             "line": {
              "color": "white"
             }
            },
            "header": {
             "fill": {
              "color": "#C8D4E3"
             },
             "line": {
              "color": "white"
             }
            },
            "type": "table"
           }
          ]
         },
         "layout": {
          "annotationdefaults": {
           "arrowcolor": "#2a3f5f",
           "arrowhead": 0,
           "arrowwidth": 1
          },
          "autotypenumbers": "strict",
          "coloraxis": {
           "colorbar": {
            "outlinewidth": 0,
            "ticks": ""
           }
          },
          "colorscale": {
           "diverging": [
            [
             0,
             "#8e0152"
            ],
            [
             0.1,
             "#c51b7d"
            ],
            [
             0.2,
             "#de77ae"
            ],
            [
             0.3,
             "#f1b6da"
            ],
            [
             0.4,
             "#fde0ef"
            ],
            [
             0.5,
             "#f7f7f7"
            ],
            [
             0.6,
             "#e6f5d0"
            ],
            [
             0.7,
             "#b8e186"
            ],
            [
             0.8,
             "#7fbc41"
            ],
            [
             0.9,
             "#4d9221"
            ],
            [
             1,
             "#276419"
            ]
           ],
           "sequential": [
            [
             0,
             "#0d0887"
            ],
            [
             0.1111111111111111,
             "#46039f"
            ],
            [
             0.2222222222222222,
             "#7201a8"
            ],
            [
             0.3333333333333333,
             "#9c179e"
            ],
            [
             0.4444444444444444,
             "#bd3786"
            ],
            [
             0.5555555555555556,
             "#d8576b"
            ],
            [
             0.6666666666666666,
             "#ed7953"
            ],
            [
             0.7777777777777778,
             "#fb9f3a"
            ],
            [
             0.8888888888888888,
             "#fdca26"
            ],
            [
             1,
             "#f0f921"
            ]
           ],
           "sequentialminus": [
            [
             0,
             "#0d0887"
            ],
            [
             0.1111111111111111,
             "#46039f"
            ],
            [
             0.2222222222222222,
             "#7201a8"
            ],
            [
             0.3333333333333333,
             "#9c179e"
            ],
            [
             0.4444444444444444,
             "#bd3786"
            ],
            [
             0.5555555555555556,
             "#d8576b"
            ],
            [
             0.6666666666666666,
             "#ed7953"
            ],
            [
             0.7777777777777778,
             "#fb9f3a"
            ],
            [
             0.8888888888888888,
             "#fdca26"
            ],
            [
             1,
             "#f0f921"
            ]
           ]
          },
          "colorway": [
           "#636efa",
           "#EF553B",
           "#00cc96",
           "#ab63fa",
           "#FFA15A",
           "#19d3f3",
           "#FF6692",
           "#B6E880",
           "#FF97FF",
           "#FECB52"
          ],
          "font": {
           "color": "#2a3f5f"
          },
          "geo": {
           "bgcolor": "white",
           "lakecolor": "white",
           "landcolor": "#E5ECF6",
           "showlakes": true,
           "showland": true,
           "subunitcolor": "white"
          },
          "hoverlabel": {
           "align": "left"
          },
          "hovermode": "closest",
          "mapbox": {
           "style": "light"
          },
          "paper_bgcolor": "white",
          "plot_bgcolor": "#E5ECF6",
          "polar": {
           "angularaxis": {
            "gridcolor": "white",
            "linecolor": "white",
            "ticks": ""
           },
           "bgcolor": "#E5ECF6",
           "radialaxis": {
            "gridcolor": "white",
            "linecolor": "white",
            "ticks": ""
           }
          },
          "scene": {
           "xaxis": {
            "backgroundcolor": "#E5ECF6",
            "gridcolor": "white",
            "gridwidth": 2,
            "linecolor": "white",
            "showbackground": true,
            "ticks": "",
            "zerolinecolor": "white"
           },
           "yaxis": {
            "backgroundcolor": "#E5ECF6",
            "gridcolor": "white",
            "gridwidth": 2,
            "linecolor": "white",
            "showbackground": true,
            "ticks": "",
            "zerolinecolor": "white"
           },
           "zaxis": {
            "backgroundcolor": "#E5ECF6",
            "gridcolor": "white",
            "gridwidth": 2,
            "linecolor": "white",
            "showbackground": true,
            "ticks": "",
            "zerolinecolor": "white"
           }
          },
          "shapedefaults": {
           "line": {
            "color": "#2a3f5f"
           }
          },
          "ternary": {
           "aaxis": {
            "gridcolor": "white",
            "linecolor": "white",
            "ticks": ""
           },
           "baxis": {
            "gridcolor": "white",
            "linecolor": "white",
            "ticks": ""
           },
           "bgcolor": "#E5ECF6",
           "caxis": {
            "gridcolor": "white",
            "linecolor": "white",
            "ticks": ""
           }
          },
          "title": {
           "x": 0.05
          },
          "xaxis": {
           "automargin": true,
           "gridcolor": "white",
           "linecolor": "white",
           "ticks": "",
           "title": {
            "standoff": 15
           },
           "zerolinecolor": "white",
           "zerolinewidth": 2
          },
          "yaxis": {
           "automargin": true,
           "gridcolor": "white",
           "linecolor": "white",
           "ticks": "",
           "title": {
            "standoff": 15
           },
           "zerolinecolor": "white",
           "zerolinewidth": 2
          }
         }
        }
       }
      },
      "text/html": [
       "<div>                            <div id=\"5949d15c-80a6-4b7e-b09c-8792fc61c27d\" class=\"plotly-graph-div\" style=\"height:525px; width:100%;\"></div>            <script type=\"text/javascript\">                require([\"plotly\"], function(Plotly) {                    window.PLOTLYENV=window.PLOTLYENV || {};                                    if (document.getElementById(\"5949d15c-80a6-4b7e-b09c-8792fc61c27d\")) {                    Plotly.newPlot(                        \"5949d15c-80a6-4b7e-b09c-8792fc61c27d\",                        [{\"coloraxis\":\"coloraxis\",\"hovertemplate\":\"<b>%{hovertext}</b><br><br>count=%{z}<br>latitude=%{lat}<br>longitude =%{lon}<extra></extra>\",\"hovertext\":[\"Raipur Census Town\",\"Mussoorie Nagar Palika Parishad\",\"Clement Town Cantonment Board\",\"Natthan Pur Census Town\",\"Mehu Wala Mafi Census Town\",\"Natthuwa Wala Census Town\",\"Doiwala Nagar Panchayat\",\"Landaur Cantonment Board\",\"Akhandwali Bhilang\",\"Amwala Karanpur\",\"Amwala Manjhala\",\"Amwala Tarala\",\"Arcadia Grant\",\"Asarori\",\"Ashkrodi Range\",\"Asthal\",\"Badripur\",\"Bagradhauran\",\"Bagral Gaon\",\"Bajhet\",\"Balawala\",\"Bandawali\",\"Banjarewala Mafi\",\"Banvtha\",\"Barasi Grant\",\"Bhagwant Pur\",\"Bhaiswargaon\",\"Bhandar Gaon\",\"Bhandariwala\",\"Bhitar Wali\",\"Bhopalpani Grant\",\"Bilas Pur Kandali\",\"Bisht Gaon\",\"Brahman Gaon\",\"Chaktonwala Grant\",\"Chalang\",\"Chamasari\",\"Chandrabani\",\"Chandrothi\",\"Chandrvani Grant\",\"Chandrwani Khalsa\",\"Chhamroli\",\"Daiswala\",\"Danda Dhoran\",\"Danda Khudanewala\",\"Danda Lakhaur\",\"Danda Nooriwala\",\"Danion Ka Danda\",\"Dhanaula\",\"Doiwala\",\"Doom Gaon\",\"Dudhali\",\"Dumal Gaon\",\"Dwara\",\"Fuleta\",\"Gajiawala\",\"Galajwari\",\"Gangole Pandit Wari\",\"Ghanghora\",\"Ghissar Pari\",\"Gujrami\",\"Gujrara Mansingh\",\"Guniyal Gaon\",\"Hansuwala\",\"Harbans Wala\",\"Harbhaj Wala\",\"Haripur\",\"Hariyawala Khurd\",\"Harrawala\",\"Haryawala\",\"Hatwalgaon\",\"Jagatkhana\",\"Jamoliwala\",\"Jamoliwala\",\"Johari\",\"Kairwan Karanpur\",\"Kalagaon\",\"Kalimati\",\"Karliguard\",\"Khala Gaon\",\"Kheragopiwala\",\"Kheri Mansingh\",\"Khuranwa\",\"Kirsali\",\"Kirsali Gaon\",\"Kishan Pur\",\"Kiwara\",\"Kulhan Karanpur\",\"Kulhan Mansingh\",\"Kuthal Gaon\",\"Kuwan Wala\",\"Kyar Kuli Bhatta\",\"Lachhi Wala\",\"Lachhiwala Range\",\"Ladpur\",\"Majari Mafi\",\"Majhara\",\"Makka Wala\",\"Malsi\",\"Mangaluwala\",\"Marautha\",\"Markham Grant\",\"Missar Wala Kala\",\"Missar Wala Khurd\",\"Mitt Behti\",\"Miyanwala\",\"Mohabbey Wala\",\"Mohammadpur Barkali\",\"Mohkam Pur Kala\",\"Mohkam Pur Khurd\",\"Motharo Wala\",\"Motidhar\",\"Mussorie Range\",\"Mussorie Range\",\"Nagal Bulandawala\",\"Nagal Jwalapur\",\"Nagalhat Nala\",\"Nakraunda\",\"Naliwala\",\"Nanur Khera\",\"Nawada\",\"Paw Wala Soda\",\"Phanduwala\",\"Pitthuwala\",\"Punkal Gaon\",\"Purohit Wala\",\"Pustari\",\"Raipur Range\",\"Ramgarh Range\",\"Reniwala\",\"Rikhauli\",\"Salan Gaon\",\"Saloniwala\",\"Sarauna\",\"Sarkhet\",\"Saundhauwali Mansingh\",\"Sera goan\",\"Seraki\",\"Shewala Kala\",\"Shewala Khurd\",\"Sigli\",\"Silla\",\"Simiyari\",\"Simlas Grant\",\"Sinaula\",\"Sindhuwala Dhauran\",\"Sodasaroli\",\"Sunderwala\",\"Tarla Nagal\",\"Thewa\",\"Tibbanala Pani\",\"Timilimansingh\",\"Utari Gaon\",\"Vijepur Gopiwala\",\"Vijepur Hathibarkala\"],\"lat\":[30.30603,30.4569012,30.2613281,30.2835847,30.31138745,30.30984363,30.17228565,30.46034775,30.30549532,30.34604921,30.33907647,30.33415699,30.31266541,30.25283322,30.20704993,30.3531046,30.28366738,30.40833,30.40756543,30.3391201,30.26310717,30.37843356,30.27612677,30.36060198,30.24785611,30.41081524,30.39124786,30.40984922,30.37474664,30.42651129,30.25336386,30.35306704,30.39613676,30.40454824,30.28808781,30.3919667,30.4232489,30.28600214,30.38012237,30.27418885,30.27950151,30.40440247,30.18066969,30.36000881,30.35613793,30.35329382,30.35479736,30.39678237,30.39480913,30.1768858,30.41706173,30.23513203,30.40695086,30.30859838,30.41853269,30.37455523,30.39526064,30.38084767,30.36619345,30.14721467,30.35784522,30.3713248,30.39202951,30.1619024,30.31407554,30.29822106,30.27157693,30.37534311,30.32259854,30.32775192,30.33686516,30.3647111,30.4021763,30.4021763,30.37469204,30.40370693,30.29083608,30.26351428,30.40949342,30.40969805,30.41130818,30.36154274,30.39451039,30.37487005,30.40312168,30.3703179,30.42145749,30.37988518,30.37585291,30.40703868,30.24710987,30.43963584,30.19487016,30.20988809,30.31565933,30.26976553,30.41005819,30.40060156,30.38071888,30.32608979,30.38355636,30.16780055,30.18833161,30.17760113,30.32057847,30.26658186,30.27353321,30.24897179,30.2761192,30.26189831,30.26523652,29.98901186,30.46263322,30.46263322,30.22692203,30.21435199,30.38698557,30.23690459,30.43527609,30.32985595,30.26549618,30.24315205,30.24294448,30.29165427,30.41742004,30.37245271,30.37413827,30.43317525,30.10459907,30.35528431,30.41951181,30.40918165,30.39522576,30.41667513,30.37878695,30.3380333,30.30431179,30.34826642,30.29403956,30.29403956,30.40207454,30.42507578,30.41020023,30.20118172,30.38058322,30.34493066,30.28328657,30.32167206,30.3766811,30.33975403,30.33796459,30.3819667,30.3986421,30.37472936,30.35265937],\"lon\":[78.098587,78.0749361,78.0120117,78.07601446,77.98641525,77.98990126,78.11712643,78.09775587,78.16233534,78.09109608,78.08169107,78.07201867,77.95516692,77.98172744,77.99726308,78.11170479,78.06449479,78.12516247,78.07761799,78.10619558,78.10348047,78.12095828,78.02499926,78.11615756,78.16349204,78.06765941,78.14361602,78.09196061,78.1162098,78.03466597,78.15729744,77.99333565,78.04640239,78.06552869,78.09455578,78.10543509,78.10554386,77.97200979,78.05875407,77.98134761,77.98418837,78.16807723,78.11961659,78.08816708,78.0950083,78.09854827,78.08374148,78.08186973,78.12150526,78.1180711,78.0734184,78.01310394,78.09774514,78.1212213,78.17305631,78.04428042,78.03125683,78.04685189,78.01139264,78.13018787,78.10811532,78.09455346,78.06869746,78.14293685,77.9863972,77.96233178,78.06166649,78.006285,78.04133701,78.08817503,78.09384523,78.09944233,78.05111404,78.05111404,78.06744885,78.10605232,78.03074151,78.17076497,78.14079455,78.0805424,78.0438629,78.13021671,78.0988192,78.10421501,78.08408235,78.0808595,78.21854903,78.10596,78.10889137,78.08391922,78.09773666,78.05178869,78.13973685,78.10022546,78.07419376,78.07002836,78.1317442,78.07436675,78.06057503,78.09600515,78.11273262,78.10791567,78.12335179,78.12219164,77.95778866,78.09095973,77.97862945,77.99135233,78.07887728,78.07480001,78.03096381,78.18669736,77.97933627,77.97933627,78.01605143,78.0367059,78.10926337,78.12812244,78.15172804,78.07688005,78.06012064,78.17853573,78.00101108,77.98299679,78.05701156,78.0289759,78.13618015,78.12280412,78.08165879,78.12407755,78.00806825,78.06598188,78.06000349,78.14589489,78.14966543,78.07620901,78.23125361,78.13504322,77.99503996,77.99503996,78.05318932,78.20350677,78.19695802,78.03794082,78.07275505,77.93022695,78.13927035,78.08489472,78.09208543,78.12127428,78.09990825,78.13443992,78.06456691,78.05571052,78.05678883],\"name\":\"\",\"radius\":20,\"subplot\":\"mapbox\",\"z\":[2,1,11,0,12,1,5,0,1,1,2,3,3,0,2,17,14,6,0,0,11,2,20,0,0,0,0,1,0,0,2,2,1,0,5,1,0,2,1,0,1,2,0,0,0,0,0,0,0,0,0,0,0,0,3,0,0,0,0,0,0,0,0,3,2,3,8,0,15,0,0,0,0,1,2,0,0,0,0,0,0,0,0,2,0,0,0,0,0,0,0,0,0,0,0,10,0,0,1,0,0,0,0,0,0,11,5,0,3,8,2,0,2,0,0,0,6,11,0,0,0,0,0,7,0,0,0,2,0,0,0,0,0,0,0,3,2,0,2,2,0,0,2,0,0,0,0,0,0,1,1,0,1,2,1],\"type\":\"densitymapbox\"}],                        {\"template\":{\"data\":{\"histogram2dcontour\":[{\"type\":\"histogram2dcontour\",\"colorbar\":{\"outlinewidth\":0,\"ticks\":\"\"},\"colorscale\":[[0.0,\"#0d0887\"],[0.1111111111111111,\"#46039f\"],[0.2222222222222222,\"#7201a8\"],[0.3333333333333333,\"#9c179e\"],[0.4444444444444444,\"#bd3786\"],[0.5555555555555556,\"#d8576b\"],[0.6666666666666666,\"#ed7953\"],[0.7777777777777778,\"#fb9f3a\"],[0.8888888888888888,\"#fdca26\"],[1.0,\"#f0f921\"]]}],\"choropleth\":[{\"type\":\"choropleth\",\"colorbar\":{\"outlinewidth\":0,\"ticks\":\"\"}}],\"histogram2d\":[{\"type\":\"histogram2d\",\"colorbar\":{\"outlinewidth\":0,\"ticks\":\"\"},\"colorscale\":[[0.0,\"#0d0887\"],[0.1111111111111111,\"#46039f\"],[0.2222222222222222,\"#7201a8\"],[0.3333333333333333,\"#9c179e\"],[0.4444444444444444,\"#bd3786\"],[0.5555555555555556,\"#d8576b\"],[0.6666666666666666,\"#ed7953\"],[0.7777777777777778,\"#fb9f3a\"],[0.8888888888888888,\"#fdca26\"],[1.0,\"#f0f921\"]]}],\"heatmap\":[{\"type\":\"heatmap\",\"colorbar\":{\"outlinewidth\":0,\"ticks\":\"\"},\"colorscale\":[[0.0,\"#0d0887\"],[0.1111111111111111,\"#46039f\"],[0.2222222222222222,\"#7201a8\"],[0.3333333333333333,\"#9c179e\"],[0.4444444444444444,\"#bd3786\"],[0.5555555555555556,\"#d8576b\"],[0.6666666666666666,\"#ed7953\"],[0.7777777777777778,\"#fb9f3a\"],[0.8888888888888888,\"#fdca26\"],[1.0,\"#f0f921\"]]}],\"heatmapgl\":[{\"type\":\"heatmapgl\",\"colorbar\":{\"outlinewidth\":0,\"ticks\":\"\"},\"colorscale\":[[0.0,\"#0d0887\"],[0.1111111111111111,\"#46039f\"],[0.2222222222222222,\"#7201a8\"],[0.3333333333333333,\"#9c179e\"],[0.4444444444444444,\"#bd3786\"],[0.5555555555555556,\"#d8576b\"],[0.6666666666666666,\"#ed7953\"],[0.7777777777777778,\"#fb9f3a\"],[0.8888888888888888,\"#fdca26\"],[1.0,\"#f0f921\"]]}],\"contourcarpet\":[{\"type\":\"contourcarpet\",\"colorbar\":{\"outlinewidth\":0,\"ticks\":\"\"}}],\"contour\":[{\"type\":\"contour\",\"colorbar\":{\"outlinewidth\":0,\"ticks\":\"\"},\"colorscale\":[[0.0,\"#0d0887\"],[0.1111111111111111,\"#46039f\"],[0.2222222222222222,\"#7201a8\"],[0.3333333333333333,\"#9c179e\"],[0.4444444444444444,\"#bd3786\"],[0.5555555555555556,\"#d8576b\"],[0.6666666666666666,\"#ed7953\"],[0.7777777777777778,\"#fb9f3a\"],[0.8888888888888888,\"#fdca26\"],[1.0,\"#f0f921\"]]}],\"surface\":[{\"type\":\"surface\",\"colorbar\":{\"outlinewidth\":0,\"ticks\":\"\"},\"colorscale\":[[0.0,\"#0d0887\"],[0.1111111111111111,\"#46039f\"],[0.2222222222222222,\"#7201a8\"],[0.3333333333333333,\"#9c179e\"],[0.4444444444444444,\"#bd3786\"],[0.5555555555555556,\"#d8576b\"],[0.6666666666666666,\"#ed7953\"],[0.7777777777777778,\"#fb9f3a\"],[0.8888888888888888,\"#fdca26\"],[1.0,\"#f0f921\"]]}],\"mesh3d\":[{\"type\":\"mesh3d\",\"colorbar\":{\"outlinewidth\":0,\"ticks\":\"\"}}],\"scatter\":[{\"fillpattern\":{\"fillmode\":\"overlay\",\"size\":10,\"solidity\":0.2},\"type\":\"scatter\"}],\"parcoords\":[{\"type\":\"parcoords\",\"line\":{\"colorbar\":{\"outlinewidth\":0,\"ticks\":\"\"}}}],\"scatterpolargl\":[{\"type\":\"scatterpolargl\",\"marker\":{\"colorbar\":{\"outlinewidth\":0,\"ticks\":\"\"}}}],\"bar\":[{\"error_x\":{\"color\":\"#2a3f5f\"},\"error_y\":{\"color\":\"#2a3f5f\"},\"marker\":{\"line\":{\"color\":\"#E5ECF6\",\"width\":0.5},\"pattern\":{\"fillmode\":\"overlay\",\"size\":10,\"solidity\":0.2}},\"type\":\"bar\"}],\"scattergeo\":[{\"type\":\"scattergeo\",\"marker\":{\"colorbar\":{\"outlinewidth\":0,\"ticks\":\"\"}}}],\"scatterpolar\":[{\"type\":\"scatterpolar\",\"marker\":{\"colorbar\":{\"outlinewidth\":0,\"ticks\":\"\"}}}],\"histogram\":[{\"marker\":{\"pattern\":{\"fillmode\":\"overlay\",\"size\":10,\"solidity\":0.2}},\"type\":\"histogram\"}],\"scattergl\":[{\"type\":\"scattergl\",\"marker\":{\"colorbar\":{\"outlinewidth\":0,\"ticks\":\"\"}}}],\"scatter3d\":[{\"type\":\"scatter3d\",\"line\":{\"colorbar\":{\"outlinewidth\":0,\"ticks\":\"\"}},\"marker\":{\"colorbar\":{\"outlinewidth\":0,\"ticks\":\"\"}}}],\"scattermapbox\":[{\"type\":\"scattermapbox\",\"marker\":{\"colorbar\":{\"outlinewidth\":0,\"ticks\":\"\"}}}],\"scatterternary\":[{\"type\":\"scatterternary\",\"marker\":{\"colorbar\":{\"outlinewidth\":0,\"ticks\":\"\"}}}],\"scattercarpet\":[{\"type\":\"scattercarpet\",\"marker\":{\"colorbar\":{\"outlinewidth\":0,\"ticks\":\"\"}}}],\"carpet\":[{\"aaxis\":{\"endlinecolor\":\"#2a3f5f\",\"gridcolor\":\"white\",\"linecolor\":\"white\",\"minorgridcolor\":\"white\",\"startlinecolor\":\"#2a3f5f\"},\"baxis\":{\"endlinecolor\":\"#2a3f5f\",\"gridcolor\":\"white\",\"linecolor\":\"white\",\"minorgridcolor\":\"white\",\"startlinecolor\":\"#2a3f5f\"},\"type\":\"carpet\"}],\"table\":[{\"cells\":{\"fill\":{\"color\":\"#EBF0F8\"},\"line\":{\"color\":\"white\"}},\"header\":{\"fill\":{\"color\":\"#C8D4E3\"},\"line\":{\"color\":\"white\"}},\"type\":\"table\"}],\"barpolar\":[{\"marker\":{\"line\":{\"color\":\"#E5ECF6\",\"width\":0.5},\"pattern\":{\"fillmode\":\"overlay\",\"size\":10,\"solidity\":0.2}},\"type\":\"barpolar\"}],\"pie\":[{\"automargin\":true,\"type\":\"pie\"}]},\"layout\":{\"autotypenumbers\":\"strict\",\"colorway\":[\"#636efa\",\"#EF553B\",\"#00cc96\",\"#ab63fa\",\"#FFA15A\",\"#19d3f3\",\"#FF6692\",\"#B6E880\",\"#FF97FF\",\"#FECB52\"],\"font\":{\"color\":\"#2a3f5f\"},\"hovermode\":\"closest\",\"hoverlabel\":{\"align\":\"left\"},\"paper_bgcolor\":\"white\",\"plot_bgcolor\":\"#E5ECF6\",\"polar\":{\"bgcolor\":\"#E5ECF6\",\"angularaxis\":{\"gridcolor\":\"white\",\"linecolor\":\"white\",\"ticks\":\"\"},\"radialaxis\":{\"gridcolor\":\"white\",\"linecolor\":\"white\",\"ticks\":\"\"}},\"ternary\":{\"bgcolor\":\"#E5ECF6\",\"aaxis\":{\"gridcolor\":\"white\",\"linecolor\":\"white\",\"ticks\":\"\"},\"baxis\":{\"gridcolor\":\"white\",\"linecolor\":\"white\",\"ticks\":\"\"},\"caxis\":{\"gridcolor\":\"white\",\"linecolor\":\"white\",\"ticks\":\"\"}},\"coloraxis\":{\"colorbar\":{\"outlinewidth\":0,\"ticks\":\"\"}},\"colorscale\":{\"sequential\":[[0.0,\"#0d0887\"],[0.1111111111111111,\"#46039f\"],[0.2222222222222222,\"#7201a8\"],[0.3333333333333333,\"#9c179e\"],[0.4444444444444444,\"#bd3786\"],[0.5555555555555556,\"#d8576b\"],[0.6666666666666666,\"#ed7953\"],[0.7777777777777778,\"#fb9f3a\"],[0.8888888888888888,\"#fdca26\"],[1.0,\"#f0f921\"]],\"sequentialminus\":[[0.0,\"#0d0887\"],[0.1111111111111111,\"#46039f\"],[0.2222222222222222,\"#7201a8\"],[0.3333333333333333,\"#9c179e\"],[0.4444444444444444,\"#bd3786\"],[0.5555555555555556,\"#d8576b\"],[0.6666666666666666,\"#ed7953\"],[0.7777777777777778,\"#fb9f3a\"],[0.8888888888888888,\"#fdca26\"],[1.0,\"#f0f921\"]],\"diverging\":[[0,\"#8e0152\"],[0.1,\"#c51b7d\"],[0.2,\"#de77ae\"],[0.3,\"#f1b6da\"],[0.4,\"#fde0ef\"],[0.5,\"#f7f7f7\"],[0.6,\"#e6f5d0\"],[0.7,\"#b8e186\"],[0.8,\"#7fbc41\"],[0.9,\"#4d9221\"],[1,\"#276419\"]]},\"xaxis\":{\"gridcolor\":\"white\",\"linecolor\":\"white\",\"ticks\":\"\",\"title\":{\"standoff\":15},\"zerolinecolor\":\"white\",\"automargin\":true,\"zerolinewidth\":2},\"yaxis\":{\"gridcolor\":\"white\",\"linecolor\":\"white\",\"ticks\":\"\",\"title\":{\"standoff\":15},\"zerolinecolor\":\"white\",\"automargin\":true,\"zerolinewidth\":2},\"scene\":{\"xaxis\":{\"backgroundcolor\":\"#E5ECF6\",\"gridcolor\":\"white\",\"linecolor\":\"white\",\"showbackground\":true,\"ticks\":\"\",\"zerolinecolor\":\"white\",\"gridwidth\":2},\"yaxis\":{\"backgroundcolor\":\"#E5ECF6\",\"gridcolor\":\"white\",\"linecolor\":\"white\",\"showbackground\":true,\"ticks\":\"\",\"zerolinecolor\":\"white\",\"gridwidth\":2},\"zaxis\":{\"backgroundcolor\":\"#E5ECF6\",\"gridcolor\":\"white\",\"linecolor\":\"white\",\"showbackground\":true,\"ticks\":\"\",\"zerolinecolor\":\"white\",\"gridwidth\":2}},\"shapedefaults\":{\"line\":{\"color\":\"#2a3f5f\"}},\"annotationdefaults\":{\"arrowcolor\":\"#2a3f5f\",\"arrowhead\":0,\"arrowwidth\":1},\"geo\":{\"bgcolor\":\"white\",\"landcolor\":\"#E5ECF6\",\"subunitcolor\":\"white\",\"showland\":true,\"showlakes\":true,\"lakecolor\":\"white\"},\"title\":{\"x\":0.05},\"mapbox\":{\"style\":\"light\"}}},\"mapbox\":{\"domain\":{\"x\":[0.0,1.0],\"y\":[0.0,1.0]},\"center\":{\"lat\":30.3165,\"lon\":78.0322},\"zoom\":5,\"style\":\"stamen-terrain\"},\"coloraxis\":{\"colorbar\":{\"title\":{\"text\":\"count\"}},\"colorscale\":[[0.0,\"#0d0887\"],[0.1111111111111111,\"#46039f\"],[0.2222222222222222,\"#7201a8\"],[0.3333333333333333,\"#9c179e\"],[0.4444444444444444,\"#bd3786\"],[0.5555555555555556,\"#d8576b\"],[0.6666666666666666,\"#ed7953\"],[0.7777777777777778,\"#fb9f3a\"],[0.8888888888888888,\"#fdca26\"],[1.0,\"#f0f921\"]]},\"legend\":{\"tracegroupgap\":0},\"margin\":{\"t\":60}},                        {\"responsive\": true}                    ).then(function(){\n",
       "                            \n",
       "var gd = document.getElementById('5949d15c-80a6-4b7e-b09c-8792fc61c27d');\n",
       "var x = new MutationObserver(function (mutations, observer) {{\n",
       "        var display = window.getComputedStyle(gd).display;\n",
       "        if (!display || display === 'none') {{\n",
       "            console.log([gd, 'removed!']);\n",
       "            Plotly.purge(gd);\n",
       "            observer.disconnect();\n",
       "        }}\n",
       "}});\n",
       "\n",
       "// Listen for the removal of the full notebook cells\n",
       "var notebookContainer = gd.closest('#notebook-container');\n",
       "if (notebookContainer) {{\n",
       "    x.observe(notebookContainer, {childList: true});\n",
       "}}\n",
       "\n",
       "// Listen for the clearing of the current output cell\n",
       "var outputEl = gd.closest('.output');\n",
       "if (outputEl) {{\n",
       "    x.observe(outputEl, {childList: true});\n",
       "}}\n",
       "\n",
       "                        })                };                });            </script>        </div>"
      ]
     },
     "metadata": {},
     "output_type": "display_data"
    }
   ],
   "source": [
    "figd = px.density_mapbox(ward_df,lat='latitude',lon='longitude ',z='count',radius=20,hover_name='ward_name',\n",
    "                        center=dict(lat=30.3165,lon=78.0322),zoom=5,\n",
    "                        mapbox_style=\"stamen-terrain\")\n",
    "figd.show()   "
   ]
  },
  {
   "cell_type": "code",
   "execution_count": null,
   "metadata": {},
   "outputs": [],
   "source": []
  }
 ],
 "metadata": {
  "interpreter": {
   "hash": "0d72b21489300652f2337cd7f80c57cc00ce6bbc92cf98d285c178d0a8ced433"
  },
  "kernelspec": {
   "display_name": "Python 3.10.4 64-bit",
   "language": "python",
   "name": "python3"
  },
  "language_info": {
   "codemirror_mode": {
    "name": "ipython",
    "version": 3
   },
   "file_extension": ".py",
   "mimetype": "text/x-python",
   "name": "python",
   "nbconvert_exporter": "python",
   "pygments_lexer": "ipython3",
   "version": "3.10.4"
  },
  "orig_nbformat": 4
 },
 "nbformat": 4,
 "nbformat_minor": 2
}
