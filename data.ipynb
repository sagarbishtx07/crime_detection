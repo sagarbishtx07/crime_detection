{
 "cells": [
  {
   "cell_type": "code",
   "execution_count": null,
   "metadata": {},
   "outputs": [],
   "source": [
    "import pandas as pd\n",
    "from bs4 import BeautifulSoup\n",
    "import requests\n",
    "\n",
    "crime_type_url = \"https://www.legalserviceindia.com/legal/article-4435-offences-under-indian-penal-code-an-overview.html\"\n",
    "response = requests.get(crime_type_url)\n",
    "#response.status_code\n",
    "crls_contents = response.text\n",
    "with open('cr_ls.html','w',encoding='utf-8') as f:\n",
    "    f.write(crls_contents)\n",
    "\n",
    "crls = BeautifulSoup(crls_contents,'html.parser')\n",
    "crlist = crls.find_all('b')\n",
    "\n",
    "cr_ipc = []\n",
    "for i in crlist:\n",
    "    cr_ipc.append(i.text.strip())\n",
    "ipclist = pd.DataFrame(cr_ipc)\n",
    "ipclist.to_csv('ipc.csv')"
   ]
  }
 ],
 "metadata": {
  "language_info": {
   "name": "python"
  },
  "orig_nbformat": 4
 },
 "nbformat": 4,
 "nbformat_minor": 2
}
